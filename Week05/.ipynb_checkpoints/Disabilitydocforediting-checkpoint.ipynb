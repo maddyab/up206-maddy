{
 "cells": [
  {
   "cell_type": "markdown",
   "id": "f4dd7fff-36c3-4edc-85f9-0d678085797f",
   "metadata": {},
   "source": [
    "## Disability and Oil Wells in Los Angeles County\n",
    "# A combination of the location of oil wells with the number and percentage of people with disabilities in nearby census tracts."
   ]
  },
  {
   "cell_type": "code",
   "execution_count": 2,
   "id": "9690ae34-10f1-4969-bbc8-db2a46e5de34",
   "metadata": {},
   "outputs": [],
   "source": [
    "# first importing pandas\n",
    "import pandas as pd"
   ]
  },
  {
   "cell_type": "markdown",
   "id": "5f601839-b414-43d9-b7d8-02ea2b43e582",
   "metadata": {},
   "source": [
    "# Census and Disability"
   ]
  },
  {
   "cell_type": "markdown",
   "id": "2c1edfa2-d32b-4db2-8d9c-ed7db8868556",
   "metadata": {},
   "source": [
    "I first imported my 3rd assignment, starting with adding the data from the census, setting up the FIPS code, and simplifying the number of columns."
   ]
  },
  {
   "cell_type": "code",
   "execution_count": 3,
   "id": "9b3c63d0-0da4-4bc3-aa07-01871083c995",
   "metadata": {},
   "outputs": [],
   "source": [
    "df = pd.read_csv('HealthCensusLA5Y2022.csv', low_memory=False,\n",
    "                dtype=\n",
    "                {'GEO_FIPS':str,\n",
    "                })"
   ]
  },
  {
   "cell_type": "code",
   "execution_count": 4,
   "id": "4f746082-eb0c-439f-8873-4892614457e1",
   "metadata": {},
   "outputs": [],
   "source": [
    "#Now, we add the extra zeros to GEO_FIPS column\n",
    "df['GEO_FIPS'] = df['GEO_FIPS'].str.zfill(11)"
   ]
  },
  {
   "cell_type": "code",
   "execution_count": 5,
   "id": "f3396f21-30e7-47b8-96bf-e37921000fb8",
   "metadata": {},
   "outputs": [],
   "source": [
    "#Next, I selected the columns to analyze for this exercise\n",
    "columns_to_keep = ['GEO_FIPS',\n",
    "                   'S2701_C01_001E',\n",
    "                   'S2701_C01_035E',\n",
    "                   'S2701_C01_036E',\n",
    "                   'S2701_C02_001E',\n",
    "                   'S2701_C04_001E']                 "
   ]
  },
  {
   "cell_type": "code",
   "execution_count": 6,
   "id": "dc259e31-5c2d-442b-ae11-dbea5fd3b9e1",
   "metadata": {},
   "outputs": [],
   "source": [
    "#Next, I added that information to a new dataframe\n",
    "df2 = df[columns_to_keep]"
   ]
  },
  {
   "cell_type": "markdown",
   "id": "57dcc884-00ad-4d02-82fb-ebe48e822c93",
   "metadata": {},
   "source": [
    "I also then renamed the columns and provided a sample of the columns."
   ]
  },
  {
   "cell_type": "code",
   "execution_count": 7,
   "id": "0ed08aba-1ac3-4b89-a711-fac4815c862e",
   "metadata": {},
   "outputs": [],
   "source": [
    "df2.columns = ['FIPS',\n",
    "'TotalPop',\n",
    "'Disabled',\n",
    "'NotDiabled',\n",
    "'Insured',\n",
    "'Uninsured']\n"
   ]
  },
  {
   "cell_type": "markdown",
   "id": "24054deb-e9d9-4003-90d0-894a8fbb62b4",
   "metadata": {},
   "source": [
    "And now a sample of those columns"
   ]
  },
  {
   "cell_type": "code",
   "execution_count": 8,
   "id": "16c5721d-4f69-43e7-8b9e-306996b590a9",
   "metadata": {},
   "outputs": [
    {
     "data": {
      "text/html": [
       "<div>\n",
       "<style scoped>\n",
       "    .dataframe tbody tr th:only-of-type {\n",
       "        vertical-align: middle;\n",
       "    }\n",
       "\n",
       "    .dataframe tbody tr th {\n",
       "        vertical-align: top;\n",
       "    }\n",
       "\n",
       "    .dataframe thead th {\n",
       "        text-align: right;\n",
       "    }\n",
       "</style>\n",
       "<table border=\"1\" class=\"dataframe\">\n",
       "  <thead>\n",
       "    <tr style=\"text-align: right;\">\n",
       "      <th></th>\n",
       "      <th>FIPS</th>\n",
       "      <th>TotalPop</th>\n",
       "      <th>Disabled</th>\n",
       "      <th>NotDiabled</th>\n",
       "      <th>Insured</th>\n",
       "      <th>Uninsured</th>\n",
       "    </tr>\n",
       "  </thead>\n",
       "  <tbody>\n",
       "    <tr>\n",
       "      <th>0</th>\n",
       "      <td>00000006037</td>\n",
       "      <td>9866623</td>\n",
       "      <td>1045189</td>\n",
       "      <td>8821434</td>\n",
       "      <td>8977888</td>\n",
       "      <td>888735</td>\n",
       "    </tr>\n",
       "    <tr>\n",
       "      <th>1</th>\n",
       "      <td>06037101110</td>\n",
       "      <td>3927</td>\n",
       "      <td>439</td>\n",
       "      <td>3488</td>\n",
       "      <td>3751</td>\n",
       "      <td>176</td>\n",
       "    </tr>\n",
       "    <tr>\n",
       "      <th>2</th>\n",
       "      <td>06037101122</td>\n",
       "      <td>4161</td>\n",
       "      <td>446</td>\n",
       "      <td>3715</td>\n",
       "      <td>3986</td>\n",
       "      <td>175</td>\n",
       "    </tr>\n",
       "    <tr>\n",
       "      <th>3</th>\n",
       "      <td>06037101220</td>\n",
       "      <td>3481</td>\n",
       "      <td>627</td>\n",
       "      <td>2854</td>\n",
       "      <td>3178</td>\n",
       "      <td>303</td>\n",
       "    </tr>\n",
       "    <tr>\n",
       "      <th>4</th>\n",
       "      <td>06037101221</td>\n",
       "      <td>3703</td>\n",
       "      <td>999</td>\n",
       "      <td>2704</td>\n",
       "      <td>3343</td>\n",
       "      <td>360</td>\n",
       "    </tr>\n",
       "  </tbody>\n",
       "</table>\n",
       "</div>"
      ],
      "text/plain": [
       "          FIPS  TotalPop  Disabled  NotDiabled  Insured  Uninsured\n",
       "0  00000006037   9866623   1045189     8821434  8977888     888735\n",
       "1  06037101110      3927       439        3488     3751        176\n",
       "2  06037101122      4161       446        3715     3986        175\n",
       "3  06037101220      3481       627        2854     3178        303\n",
       "4  06037101221      3703       999        2704     3343        360"
      ]
     },
     "execution_count": 8,
     "metadata": {},
     "output_type": "execute_result"
    }
   ],
   "source": [
    "df2.head(5)"
   ]
  },
  {
   "cell_type": "markdown",
   "id": "ed2c53be-9818-4942-ac4c-542bf02e732c",
   "metadata": {},
   "source": [
    "I also deleted the los angeles county total from the dataset in order to allow for visuals then ran info and a histogram to get a better sense of the data."
   ]
  },
  {
   "cell_type": "code",
   "execution_count": 8,
   "id": "c8f4ab6d-1575-4322-8de7-bfffce8eb0c5",
   "metadata": {},
   "outputs": [],
   "source": [
    "df2 = df2.drop(0)"
   ]
  },
  {
   "cell_type": "code",
   "execution_count": 35,
   "id": "50c0cdd1-fc81-4bef-97f4-97a1f7dbde4a",
   "metadata": {},
   "outputs": [
    {
     "name": "stdout",
     "output_type": "stream",
     "text": [
      "<class 'pandas.core.frame.DataFrame'>\n",
      "RangeIndex: 2498 entries, 1 to 2498\n",
      "Data columns (total 6 columns):\n",
      " #   Column      Non-Null Count  Dtype \n",
      "---  ------      --------------  ----- \n",
      " 0   FIPS        2498 non-null   object\n",
      " 1   TotalPop    2498 non-null   int64 \n",
      " 2   Disabled    2498 non-null   int64 \n",
      " 3   NotDiabled  2498 non-null   int64 \n",
      " 4   Insured     2498 non-null   int64 \n",
      " 5   Uninsured   2498 non-null   int64 \n",
      "dtypes: int64(5), object(1)\n",
      "memory usage: 117.2+ KB\n"
     ]
    }
   ],
   "source": [
    "df2.info()"
   ]
  },
  {
   "cell_type": "code",
   "execution_count": 9,
   "id": "5dbd0f58-704c-4f1f-87b7-44c4c058fb1e",
   "metadata": {},
   "outputs": [
    {
     "data": {
      "text/plain": [
       "<Axes: ylabel='Frequency'>"
      ]
     },
     "execution_count": 9,
     "metadata": {},
     "output_type": "execute_result"
    },
    {
     "data": {
      "image/png": "[encoded data removed]",
      "text/plain": [
       "<Figure size 640x480 with 1 Axes>"
      ]
     },
     "metadata": {},
     "output_type": "display_data"
    }
   ],
   "source": [
    "df2['Disabled'].plot.hist(bins=40) "
   ]
  },
  {
   "cell_type": "markdown",
   "id": "d38584bd-401c-4c88-9825-7eeecf735317",
   "metadata": {},
   "source": [
    "My takeaway from this was that most census tracts have between 250-500 people with disabilities, but there are outliers as high as 1500. We don't yet know how that compares to the population in the place, but it is certainly striking."
   ]
  },
  {
   "cell_type": "markdown",
   "id": "29efa85e-ebed-4adc-8361-2f3440373a4b",
   "metadata": {},
   "source": [
    "Sorting the data then seems like an important element of understanding it."
   ]
  },
  {
   "cell_type": "code",
   "execution_count": 10,
   "id": "cb3623e1-9887-4188-b898-18537fe0f750",
   "metadata": {},
   "outputs": [],
   "source": [
    "Tract_disability = df2.sort_values(by='Disabled',ascending = False)"
   ]
  },
  {
   "cell_type": "code",
   "execution_count": 12,
   "id": "f5dc5ca8-c8b3-464e-9b7f-3f6ef4fc6118",
   "metadata": {},
   "outputs": [
    {
     "data": {
      "text/html": [
       "<div>\n",
       "<style scoped>\n",
       "    .dataframe tbody tr th:only-of-type {\n",
       "        vertical-align: middle;\n",
       "    }\n",
       "\n",
       "    .dataframe tbody tr th {\n",
       "        vertical-align: top;\n",
       "    }\n",
       "\n",
       "    .dataframe thead th {\n",
       "        text-align: right;\n",
       "    }\n",
       "</style>\n",
       "<table border=\"1\" class=\"dataframe\">\n",
       "  <thead>\n",
       "    <tr style=\"text-align: right;\">\n",
       "      <th></th>\n",
       "      <th>FIPS</th>\n",
       "      <th>Disabled</th>\n",
       "      <th>TotalPop</th>\n",
       "    </tr>\n",
       "  </thead>\n",
       "  <tbody>\n",
       "    <tr>\n",
       "      <th>2064</th>\n",
       "      <td>06037600202</td>\n",
       "      <td>1655</td>\n",
       "      <td>7614</td>\n",
       "    </tr>\n",
       "    <tr>\n",
       "      <th>2089</th>\n",
       "      <td>06037601401</td>\n",
       "      <td>1646</td>\n",
       "      <td>7129</td>\n",
       "    </tr>\n",
       "    <tr>\n",
       "      <th>1936</th>\n",
       "      <td>06037555300</td>\n",
       "      <td>1434</td>\n",
       "      <td>4882</td>\n",
       "    </tr>\n",
       "    <tr>\n",
       "      <th>591</th>\n",
       "      <td>06037206303</td>\n",
       "      <td>1415</td>\n",
       "      <td>2757</td>\n",
       "    </tr>\n",
       "    <tr>\n",
       "      <th>2088</th>\n",
       "      <td>06037601303</td>\n",
       "      <td>1400</td>\n",
       "      <td>5593</td>\n",
       "    </tr>\n",
       "    <tr>\n",
       "      <th>589</th>\n",
       "      <td>06037206301</td>\n",
       "      <td>1255</td>\n",
       "      <td>2115</td>\n",
       "    </tr>\n",
       "    <tr>\n",
       "      <th>1819</th>\n",
       "      <td>06037543322</td>\n",
       "      <td>1252</td>\n",
       "      <td>7031</td>\n",
       "    </tr>\n",
       "    <tr>\n",
       "      <th>1821</th>\n",
       "      <td>06037543501</td>\n",
       "      <td>1233</td>\n",
       "      <td>6255</td>\n",
       "    </tr>\n",
       "    <tr>\n",
       "      <th>862</th>\n",
       "      <td>06037238000</td>\n",
       "      <td>1219</td>\n",
       "      <td>5583</td>\n",
       "    </tr>\n",
       "    <tr>\n",
       "      <th>864</th>\n",
       "      <td>06037238200</td>\n",
       "      <td>1219</td>\n",
       "      <td>6176</td>\n",
       "    </tr>\n",
       "  </tbody>\n",
       "</table>\n",
       "</div>"
      ],
      "text/plain": [
       "             FIPS  Disabled  TotalPop\n",
       "2064  06037600202      1655      7614\n",
       "2089  06037601401      1646      7129\n",
       "1936  06037555300      1434      4882\n",
       "591   06037206303      1415      2757\n",
       "2088  06037601303      1400      5593\n",
       "589   06037206301      1255      2115\n",
       "1819  06037543322      1252      7031\n",
       "1821  06037543501      1233      6255\n",
       "862   06037238000      1219      5583\n",
       "864   06037238200      1219      6176"
      ]
     },
     "execution_count": 12,
     "metadata": {},
     "output_type": "execute_result"
    }
   ],
   "source": [
    "Tract_disability[['FIPS','Disabled','TotalPop']].head(10)"
   ]
  },
  {
   "cell_type": "code",
   "execution_count": 13,
   "id": "9d24f1cb-5cbb-422d-92ef-5e191c8683bd",
   "metadata": {},
   "outputs": [
    {
     "data": {
      "text/html": [
       "<div>\n",
       "<style scoped>\n",
       "    .dataframe tbody tr th:only-of-type {\n",
       "        vertical-align: middle;\n",
       "    }\n",
       "\n",
       "    .dataframe tbody tr th {\n",
       "        vertical-align: top;\n",
       "    }\n",
       "\n",
       "    .dataframe thead th {\n",
       "        text-align: right;\n",
       "    }\n",
       "</style>\n",
       "<table border=\"1\" class=\"dataframe\">\n",
       "  <thead>\n",
       "    <tr style=\"text-align: right;\">\n",
       "      <th></th>\n",
       "      <th>FIPS</th>\n",
       "      <th>Disabled</th>\n",
       "      <th>TotalPop</th>\n",
       "    </tr>\n",
       "  </thead>\n",
       "  <tbody>\n",
       "    <tr>\n",
       "      <th>2477</th>\n",
       "      <td>06037980018</td>\n",
       "      <td>0</td>\n",
       "      <td>0</td>\n",
       "    </tr>\n",
       "    <tr>\n",
       "      <th>2460</th>\n",
       "      <td>06037980001</td>\n",
       "      <td>0</td>\n",
       "      <td>0</td>\n",
       "    </tr>\n",
       "    <tr>\n",
       "      <th>2461</th>\n",
       "      <td>06037980002</td>\n",
       "      <td>0</td>\n",
       "      <td>0</td>\n",
       "    </tr>\n",
       "    <tr>\n",
       "      <th>2472</th>\n",
       "      <td>06037980013</td>\n",
       "      <td>0</td>\n",
       "      <td>0</td>\n",
       "    </tr>\n",
       "    <tr>\n",
       "      <th>2471</th>\n",
       "      <td>06037980012</td>\n",
       "      <td>0</td>\n",
       "      <td>0</td>\n",
       "    </tr>\n",
       "    <tr>\n",
       "      <th>2462</th>\n",
       "      <td>06037980003</td>\n",
       "      <td>0</td>\n",
       "      <td>0</td>\n",
       "    </tr>\n",
       "    <tr>\n",
       "      <th>2468</th>\n",
       "      <td>06037980009</td>\n",
       "      <td>0</td>\n",
       "      <td>5</td>\n",
       "    </tr>\n",
       "    <tr>\n",
       "      <th>2466</th>\n",
       "      <td>06037980007</td>\n",
       "      <td>0</td>\n",
       "      <td>0</td>\n",
       "    </tr>\n",
       "    <tr>\n",
       "      <th>2465</th>\n",
       "      <td>06037980006</td>\n",
       "      <td>0</td>\n",
       "      <td>0</td>\n",
       "    </tr>\n",
       "    <tr>\n",
       "      <th>2498</th>\n",
       "      <td>06037990300</td>\n",
       "      <td>0</td>\n",
       "      <td>0</td>\n",
       "    </tr>\n",
       "  </tbody>\n",
       "</table>\n",
       "</div>"
      ],
      "text/plain": [
       "             FIPS  Disabled  TotalPop\n",
       "2477  06037980018         0         0\n",
       "2460  06037980001         0         0\n",
       "2461  06037980002         0         0\n",
       "2472  06037980013         0         0\n",
       "2471  06037980012         0         0\n",
       "2462  06037980003         0         0\n",
       "2468  06037980009         0         5\n",
       "2466  06037980007         0         0\n",
       "2465  06037980006         0         0\n",
       "2498  06037990300         0         0"
      ]
     },
     "execution_count": 13,
     "metadata": {},
     "output_type": "execute_result"
    }
   ],
   "source": [
    "Tract_disability[['FIPS','Disabled','TotalPop']].tail(10)"
   ]
  },
  {
   "cell_type": "markdown",
   "id": "aabefb11-dc2c-4c4c-9c64-0ac71471da2c",
   "metadata": {},
   "source": [
    "There are multiple census tracts with zero people with disabilities, but these are also mostly census tracts without people in Los Angeles."
   ]
  },
  {
   "cell_type": "markdown",
   "id": "81ded28a-53c2-49c2-ad18-5447237052a8",
   "metadata": {},
   "source": [
    "Next, I moved to mapping the data, starting with importing geopandas and accessing the 2020 census tract geojson file from LA Geo HUB"
   ]
  },
  {
   "cell_type": "code",
   "execution_count": 11,
   "id": "1f449b93-b151-47bf-a604-ba509eb60b16",
   "metadata": {},
   "outputs": [],
   "source": [
    "import geopandas as gpd"
   ]
  },
  {
   "cell_type": "code",
   "execution_count": 12,
   "id": "e11987e4-c98d-4564-87cc-c61bfa74f95b",
   "metadata": {},
   "outputs": [
    {
     "name": "stderr",
     "output_type": "stream",
     "text": [
      "ERROR 1: PROJ: proj_create_from_database: Open of /opt/conda/share/proj failed\n"
     ]
    },
    {
     "data": {
      "text/html": [
       "<div>\n",
       "<style scoped>\n",
       "    .dataframe tbody tr th:only-of-type {\n",
       "        vertical-align: middle;\n",
       "    }\n",
       "\n",
       "    .dataframe tbody tr th {\n",
       "        vertical-align: top;\n",
       "    }\n",
       "\n",
       "    .dataframe thead th {\n",
       "        text-align: right;\n",
       "    }\n",
       "</style>\n",
       "<table border=\"1\" class=\"dataframe\">\n",
       "  <thead>\n",
       "    <tr style=\"text-align: right;\">\n",
       "      <th></th>\n",
       "      <th>OBJECTID</th>\n",
       "      <th>CT20</th>\n",
       "      <th>LABEL</th>\n",
       "      <th>ShapeSTArea</th>\n",
       "      <th>ShapeSTLength</th>\n",
       "      <th>geometry</th>\n",
       "    </tr>\n",
       "  </thead>\n",
       "  <tbody>\n",
       "    <tr>\n",
       "      <th>0</th>\n",
       "      <td>4992</td>\n",
       "      <td>101110</td>\n",
       "      <td>1011.10</td>\n",
       "      <td>1.229562e+07</td>\n",
       "      <td>15083.854287</td>\n",
       "      <td>POLYGON ((-118.29793 34.26323, -118.30082 34.2...</td>\n",
       "    </tr>\n",
       "    <tr>\n",
       "      <th>1</th>\n",
       "      <td>4993</td>\n",
       "      <td>101122</td>\n",
       "      <td>1011.22</td>\n",
       "      <td>2.845774e+07</td>\n",
       "      <td>31671.455844</td>\n",
       "      <td>POLYGON ((-118.27743 34.25991, -118.27743 34.2...</td>\n",
       "    </tr>\n",
       "    <tr>\n",
       "      <th>2</th>\n",
       "      <td>4994</td>\n",
       "      <td>101220</td>\n",
       "      <td>1012.20</td>\n",
       "      <td>7.522093e+06</td>\n",
       "      <td>12698.783810</td>\n",
       "      <td>POLYGON ((-118.27818 34.25577, -118.27887 34.2...</td>\n",
       "    </tr>\n",
       "    <tr>\n",
       "      <th>3</th>\n",
       "      <td>4995</td>\n",
       "      <td>101221</td>\n",
       "      <td>1012.21</td>\n",
       "      <td>3.812000e+06</td>\n",
       "      <td>9161.710543</td>\n",
       "      <td>POLYGON ((-118.28735 34.25591, -118.28863 34.2...</td>\n",
       "    </tr>\n",
       "    <tr>\n",
       "      <th>4</th>\n",
       "      <td>4996</td>\n",
       "      <td>101222</td>\n",
       "      <td>1012.22</td>\n",
       "      <td>3.191371e+06</td>\n",
       "      <td>9980.600461</td>\n",
       "      <td>POLYGON ((-118.28594 34.25590, -118.28697 34.2...</td>\n",
       "    </tr>\n",
       "  </tbody>\n",
       "</table>\n",
       "</div>"
      ],
      "text/plain": [
       "   OBJECTID    CT20    LABEL   ShapeSTArea  ShapeSTLength  \\\n",
       "0      4992  101110  1011.10  1.229562e+07   15083.854287   \n",
       "1      4993  101122  1011.22  2.845774e+07   31671.455844   \n",
       "2      4994  101220  1012.20  7.522093e+06   12698.783810   \n",
       "3      4995  101221  1012.21  3.812000e+06    9161.710543   \n",
       "4      4996  101222  1012.22  3.191371e+06    9980.600461   \n",
       "\n",
       "                                            geometry  \n",
       "0  POLYGON ((-118.29793 34.26323, -118.30082 34.2...  \n",
       "1  POLYGON ((-118.27743 34.25991, -118.27743 34.2...  \n",
       "2  POLYGON ((-118.27818 34.25577, -118.27887 34.2...  \n",
       "3  POLYGON ((-118.28735 34.25591, -118.28863 34.2...  \n",
       "4  POLYGON ((-118.28594 34.25590, -118.28697 34.2...  "
      ]
     },
     "execution_count": 12,
     "metadata": {},
     "output_type": "execute_result"
    }
   ],
   "source": [
    "#creating a variable for the geojson with census tracts\n",
    "tracts=gpd.read_file('2020_Census_Tracts.geojson')\n",
    "tracts.head()"
   ]
  },
  {
   "cell_type": "markdown",
   "id": "094a3f44-72d4-4a6a-8b74-636826e3b74f",
   "metadata": {},
   "source": [
    "I then looked for relevant geographical information that I can merge with the other dataset, by choosing the columns wer're interested in and creating a FIPS column as we did in class"
   ]
  },
  {
   "cell_type": "code",
   "execution_count": 16,
   "id": "d6bf5b90-0bd7-4794-9284-7d73f67f8961",
   "metadata": {},
   "outputs": [
    {
     "name": "stdout",
     "output_type": "stream",
     "text": [
      "<class 'geopandas.geodataframe.GeoDataFrame'>\n",
      "RangeIndex: 2496 entries, 0 to 2495\n",
      "Data columns (total 6 columns):\n",
      " #   Column         Non-Null Count  Dtype   \n",
      "---  ------         --------------  -----   \n",
      " 0   OBJECTID       2496 non-null   int64   \n",
      " 1   CT20           2496 non-null   object  \n",
      " 2   LABEL          2496 non-null   object  \n",
      " 3   ShapeSTArea    2496 non-null   float64 \n",
      " 4   ShapeSTLength  2496 non-null   float64 \n",
      " 5   geometry       2496 non-null   geometry\n",
      "dtypes: float64(2), geometry(1), int64(1), object(2)\n",
      "memory usage: 117.1+ KB\n"
     ]
    }
   ],
   "source": [
    "tracts.info(verbose=True, show_counts=True)"
   ]
  },
  {
   "cell_type": "code",
   "execution_count": 13,
   "id": "6a4731e6-9a0f-4169-af63-947162c557a2",
   "metadata": {},
   "outputs": [
    {
     "data": {
      "text/html": [
       "<div>\n",
       "<style scoped>\n",
       "    .dataframe tbody tr th:only-of-type {\n",
       "        vertical-align: middle;\n",
       "    }\n",
       "\n",
       "    .dataframe tbody tr th {\n",
       "        vertical-align: top;\n",
       "    }\n",
       "\n",
       "    .dataframe thead th {\n",
       "        text-align: right;\n",
       "    }\n",
       "</style>\n",
       "<table border=\"1\" class=\"dataframe\">\n",
       "  <thead>\n",
       "    <tr style=\"text-align: right;\">\n",
       "      <th></th>\n",
       "      <th>CT20</th>\n",
       "      <th>geometry</th>\n",
       "    </tr>\n",
       "  </thead>\n",
       "  <tbody>\n",
       "    <tr>\n",
       "      <th>0</th>\n",
       "      <td>101110</td>\n",
       "      <td>POLYGON ((-118.29793 34.26323, -118.30082 34.2...</td>\n",
       "    </tr>\n",
       "    <tr>\n",
       "      <th>1</th>\n",
       "      <td>101122</td>\n",
       "      <td>POLYGON ((-118.27743 34.25991, -118.27743 34.2...</td>\n",
       "    </tr>\n",
       "    <tr>\n",
       "      <th>2</th>\n",
       "      <td>101220</td>\n",
       "      <td>POLYGON ((-118.27818 34.25577, -118.27887 34.2...</td>\n",
       "    </tr>\n",
       "    <tr>\n",
       "      <th>3</th>\n",
       "      <td>101221</td>\n",
       "      <td>POLYGON ((-118.28735 34.25591, -118.28863 34.2...</td>\n",
       "    </tr>\n",
       "    <tr>\n",
       "      <th>4</th>\n",
       "      <td>101222</td>\n",
       "      <td>POLYGON ((-118.28594 34.25590, -118.28697 34.2...</td>\n",
       "    </tr>\n",
       "  </tbody>\n",
       "</table>\n",
       "</div>"
      ],
      "text/plain": [
       "     CT20                                           geometry\n",
       "0  101110  POLYGON ((-118.29793 34.26323, -118.30082 34.2...\n",
       "1  101122  POLYGON ((-118.27743 34.25991, -118.27743 34.2...\n",
       "2  101220  POLYGON ((-118.27818 34.25577, -118.27887 34.2...\n",
       "3  101221  POLYGON ((-118.28735 34.25591, -118.28863 34.2...\n",
       "4  101222  POLYGON ((-118.28594 34.25590, -118.28697 34.2..."
      ]
     },
     "execution_count": 13,
     "metadata": {},
     "output_type": "execute_result"
    }
   ],
   "source": [
    "tracts = tracts[['CT20','geometry']]\n",
    "tracts.head()"
   ]
  },
  {
   "cell_type": "markdown",
   "id": "14c1c10d-40ea-4b59-a6f4-a213d8295696",
   "metadata": {},
   "source": [
    "Next, I added the information for California and Los Angeles to the CT20 column in a new FIPS column and confirmed it worked with a test of the first five rows. "
   ]
  },
  {
   "cell_type": "code",
   "execution_count": 14,
   "id": "68fcc0ca-c7db-4609-9ba1-9b4a5e602c4d",
   "metadata": {},
   "outputs": [],
   "source": [
    "tracts['FIPS'] ='06' + '037' + tracts['CT20']"
   ]
  },
  {
   "cell_type": "code",
   "execution_count": 15,
   "id": "ca23c4e9-2677-4120-972c-8c29140a0a8d",
   "metadata": {},
   "outputs": [
    {
     "data": {
      "text/html": [
       "<div>\n",
       "<style scoped>\n",
       "    .dataframe tbody tr th:only-of-type {\n",
       "        vertical-align: middle;\n",
       "    }\n",
       "\n",
       "    .dataframe tbody tr th {\n",
       "        vertical-align: top;\n",
       "    }\n",
       "\n",
       "    .dataframe thead th {\n",
       "        text-align: right;\n",
       "    }\n",
       "</style>\n",
       "<table border=\"1\" class=\"dataframe\">\n",
       "  <thead>\n",
       "    <tr style=\"text-align: right;\">\n",
       "      <th></th>\n",
       "      <th>CT20</th>\n",
       "      <th>geometry</th>\n",
       "      <th>FIPS</th>\n",
       "    </tr>\n",
       "  </thead>\n",
       "  <tbody>\n",
       "    <tr>\n",
       "      <th>0</th>\n",
       "      <td>101110</td>\n",
       "      <td>POLYGON ((-118.29793 34.26323, -118.30082 34.2...</td>\n",
       "      <td>06037101110</td>\n",
       "    </tr>\n",
       "    <tr>\n",
       "      <th>1</th>\n",
       "      <td>101122</td>\n",
       "      <td>POLYGON ((-118.27743 34.25991, -118.27743 34.2...</td>\n",
       "      <td>06037101122</td>\n",
       "    </tr>\n",
       "    <tr>\n",
       "      <th>2</th>\n",
       "      <td>101220</td>\n",
       "      <td>POLYGON ((-118.27818 34.25577, -118.27887 34.2...</td>\n",
       "      <td>06037101220</td>\n",
       "    </tr>\n",
       "    <tr>\n",
       "      <th>3</th>\n",
       "      <td>101221</td>\n",
       "      <td>POLYGON ((-118.28735 34.25591, -118.28863 34.2...</td>\n",
       "      <td>06037101221</td>\n",
       "    </tr>\n",
       "    <tr>\n",
       "      <th>4</th>\n",
       "      <td>101222</td>\n",
       "      <td>POLYGON ((-118.28594 34.25590, -118.28697 34.2...</td>\n",
       "      <td>06037101222</td>\n",
       "    </tr>\n",
       "  </tbody>\n",
       "</table>\n",
       "</div>"
      ],
      "text/plain": [
       "     CT20                                           geometry         FIPS\n",
       "0  101110  POLYGON ((-118.29793 34.26323, -118.30082 34.2...  06037101110\n",
       "1  101122  POLYGON ((-118.27743 34.25991, -118.27743 34.2...  06037101122\n",
       "2  101220  POLYGON ((-118.27818 34.25577, -118.27887 34.2...  06037101220\n",
       "3  101221  POLYGON ((-118.28735 34.25591, -118.28863 34.2...  06037101221\n",
       "4  101222  POLYGON ((-118.28594 34.25590, -118.28697 34.2...  06037101222"
      ]
     },
     "execution_count": 15,
     "metadata": {},
     "output_type": "execute_result"
    }
   ],
   "source": [
    "tracts.head()"
   ]
  },
  {
   "cell_type": "code",
   "execution_count": 16,
   "id": "9e813520-77f8-478c-a23f-ae6e147bee8f",
   "metadata": {},
   "outputs": [],
   "source": [
    "#Now, I merge the two into one new dataframe\n",
    "tracts_disability=tracts.merge(df2,on=\"FIPS\")"
   ]
  },
  {
   "cell_type": "code",
   "execution_count": 21,
   "id": "8e24ce54-9670-4f97-a65d-b77c5831df30",
   "metadata": {},
   "outputs": [
    {
     "data": {
      "text/html": [
       "<div>\n",
       "<style scoped>\n",
       "    .dataframe tbody tr th:only-of-type {\n",
       "        vertical-align: middle;\n",
       "    }\n",
       "\n",
       "    .dataframe tbody tr th {\n",
       "        vertical-align: top;\n",
       "    }\n",
       "\n",
       "    .dataframe thead th {\n",
       "        text-align: right;\n",
       "    }\n",
       "</style>\n",
       "<table border=\"1\" class=\"dataframe\">\n",
       "  <thead>\n",
       "    <tr style=\"text-align: right;\">\n",
       "      <th></th>\n",
       "      <th>CT20</th>\n",
       "      <th>geometry</th>\n",
       "      <th>FIPS</th>\n",
       "      <th>TotalPop</th>\n",
       "      <th>Disabled</th>\n",
       "      <th>NotDiabled</th>\n",
       "      <th>Insured</th>\n",
       "      <th>Uninsured</th>\n",
       "    </tr>\n",
       "  </thead>\n",
       "  <tbody>\n",
       "    <tr>\n",
       "      <th>0</th>\n",
       "      <td>101110</td>\n",
       "      <td>POLYGON ((-118.29793 34.26323, -118.30082 34.2...</td>\n",
       "      <td>06037101110</td>\n",
       "      <td>3927</td>\n",
       "      <td>439</td>\n",
       "      <td>3488</td>\n",
       "      <td>3751</td>\n",
       "      <td>176</td>\n",
       "    </tr>\n",
       "    <tr>\n",
       "      <th>1</th>\n",
       "      <td>101122</td>\n",
       "      <td>POLYGON ((-118.27743 34.25991, -118.27743 34.2...</td>\n",
       "      <td>06037101122</td>\n",
       "      <td>4161</td>\n",
       "      <td>446</td>\n",
       "      <td>3715</td>\n",
       "      <td>3986</td>\n",
       "      <td>175</td>\n",
       "    </tr>\n",
       "    <tr>\n",
       "      <th>2</th>\n",
       "      <td>101220</td>\n",
       "      <td>POLYGON ((-118.27818 34.25577, -118.27887 34.2...</td>\n",
       "      <td>06037101220</td>\n",
       "      <td>3481</td>\n",
       "      <td>627</td>\n",
       "      <td>2854</td>\n",
       "      <td>3178</td>\n",
       "      <td>303</td>\n",
       "    </tr>\n",
       "    <tr>\n",
       "      <th>3</th>\n",
       "      <td>101221</td>\n",
       "      <td>POLYGON ((-118.28735 34.25591, -118.28863 34.2...</td>\n",
       "      <td>06037101221</td>\n",
       "      <td>3703</td>\n",
       "      <td>999</td>\n",
       "      <td>2704</td>\n",
       "      <td>3343</td>\n",
       "      <td>360</td>\n",
       "    </tr>\n",
       "    <tr>\n",
       "      <th>4</th>\n",
       "      <td>101222</td>\n",
       "      <td>POLYGON ((-118.28594 34.25590, -118.28697 34.2...</td>\n",
       "      <td>06037101222</td>\n",
       "      <td>2808</td>\n",
       "      <td>664</td>\n",
       "      <td>2144</td>\n",
       "      <td>2589</td>\n",
       "      <td>219</td>\n",
       "    </tr>\n",
       "  </tbody>\n",
       "</table>\n",
       "</div>"
      ],
      "text/plain": [
       "     CT20                                           geometry         FIPS  \\\n",
       "0  101110  POLYGON ((-118.29793 34.26323, -118.30082 34.2...  06037101110   \n",
       "1  101122  POLYGON ((-118.27743 34.25991, -118.27743 34.2...  06037101122   \n",
       "2  101220  POLYGON ((-118.27818 34.25577, -118.27887 34.2...  06037101220   \n",
       "3  101221  POLYGON ((-118.28735 34.25591, -118.28863 34.2...  06037101221   \n",
       "4  101222  POLYGON ((-118.28594 34.25590, -118.28697 34.2...  06037101222   \n",
       "\n",
       "   TotalPop  Disabled  NotDiabled  Insured  Uninsured  \n",
       "0      3927       439        3488     3751        176  \n",
       "1      4161       446        3715     3986        175  \n",
       "2      3481       627        2854     3178        303  \n",
       "3      3703       999        2704     3343        360  \n",
       "4      2808       664        2144     2589        219  "
      ]
     },
     "execution_count": 21,
     "metadata": {},
     "output_type": "execute_result"
    }
   ],
   "source": [
    "#and confirm if it worked the way I hoped\n",
    "tracts_disability.head()"
   ]
  },
  {
   "cell_type": "markdown",
   "id": "94d1e483-13a4-4ba9-a72c-6c7463ad8d90",
   "metadata": {},
   "source": [
    "I then created another variable for the percenage of residents with a disability."
   ]
  },
  {
   "cell_type": "code",
   "execution_count": 17,
   "id": "939febfc-70e4-4747-873f-09dabb8eb958",
   "metadata": {},
   "outputs": [],
   "source": [
    "tracts_disability['PCT_Disability'] = tracts_disability['Disabled']/tracts_disability['TotalPop']*100"
   ]
  },
  {
   "cell_type": "code",
   "execution_count": null,
   "id": "31120ef6-b6a8-4d9b-821e-76f11a5daec8",
   "metadata": {},
   "outputs": [],
   "source": [
    "Now I was about to add the next dataset I wanted to check what projection the data would be."
   ]
  },
  {
   "cell_type": "code",
   "execution_count": 25,
   "id": "e3a7ef6d-e2bc-41f5-8d9d-8df91e38d7f5",
   "metadata": {},
   "outputs": [
    {
     "data": {
      "text/plain": [
       "<Geographic 2D CRS: EPSG:4326>\n",
       "Name: WGS 84\n",
       "Axis Info [ellipsoidal]:\n",
       "- Lat[north]: Geodetic latitude (degree)\n",
       "- Lon[east]: Geodetic longitude (degree)\n",
       "Area of Use:\n",
       "- name: World.\n",
       "- bounds: (-180.0, -90.0, 180.0, 90.0)\n",
       "Datum: World Geodetic System 1984 ensemble\n",
       "- Ellipsoid: WGS 84\n",
       "- Prime Meridian: Greenwich"
      ]
     },
     "execution_count": 25,
     "metadata": {},
     "output_type": "execute_result"
    }
   ],
   "source": [
    "tracts_disability.crs"
   ]
  },
  {
   "cell_type": "markdown",
   "id": "e9d4b5ab-d940-4df5-a5f6-87f962b8d793",
   "metadata": {},
   "source": [
    "# Oil Wells Data"
   ]
  },
  {
   "cell_type": "markdown",
   "id": "e8f943ee-6569-4632-9c2d-fba48653dd05",
   "metadata": {},
   "source": [
    "Now, I added oil wells data for the use of pairing the two. "
   ]
  },
  {
   "cell_type": "code",
   "execution_count": 19,
   "id": "dfb6af8b-3f83-4e55-9777-88d255b2d962",
   "metadata": {},
   "outputs": [],
   "source": [
    "df = pd.read_csv('Oil_Wells.csv')"
   ]
  },
  {
   "cell_type": "code",
   "execution_count": 20,
   "id": "c044b303-2e5d-4ef6-aeba-0b751afd6012",
   "metadata": {},
   "outputs": [],
   "source": [
    "gdf = gpd.GeoDataFrame(df, \n",
    "                       crs='epsg:4326',\n",
    "                       geometry=gpd.points_from_xy(df.Longitude, df.Latitude))"
   ]
  },
  {
   "cell_type": "markdown",
   "id": "51caeb05-7b45-4f90-b3f1-2ba2ead117f6",
   "metadata": {},
   "source": [
    "A key concern for us was the size of the dataset for oil wells. As described elsewhere, we decided to narrow to active wells based on the size of the data."
   ]
  },
  {
   "cell_type": "code",
   "execution_count": 21,
   "id": "ab663159-9d4d-43a2-9bfb-8ee46763720d",
   "metadata": {},
   "outputs": [],
   "source": [
    "gdf_act = gdf.drop(gdf[gdf['WellStatus'] != 'A'].index)"
   ]
  },
  {
   "cell_type": "code",
   "execution_count": 22,
   "id": "109077a0-505b-4b2a-9a40-7cc91ac3f13f",
   "metadata": {},
   "outputs": [],
   "source": [
    "import matplotlib.pyplot as plt"
   ]
  },
  {
   "cell_type": "markdown",
   "id": "36d399a9-7064-4845-97fa-3ca8d67f4648",
   "metadata": {},
   "source": [
    "Note, potentially for future reference. I started by trying to use a matplot lib map, but the result was a graph with two points very far away from each other. I wasn't sure how to fix this.\n",
    "\n",
    "fig, ax = plt.subplots()\n",
    "\n",
    "ax.set_aspect('equal')\n",
    "\n",
    "gdf_act.plot(ax=ax, marker='o', color='red', markersize=5)\n",
    "\n",
    "plt.show();"
   ]
  },
  {
   "cell_type": "markdown",
   "id": "3b4da29c-48d0-44b9-9e67-e866fcef76c5",
   "metadata": {},
   "source": [
    "# Folium "
   ]
  },
  {
   "cell_type": "code",
   "execution_count": 23,
   "id": "a84cb637-018e-4d85-8779-9f2b959387dc",
   "metadata": {},
   "outputs": [],
   "source": [
    "import folium"
   ]
  },
  {
   "cell_type": "code",
   "execution_count": 46,
   "id": "ead57735-31e6-4af9-895d-5497a5b66fd6",
   "metadata": {},
   "outputs": [],
   "source": [
    "#add empty folium map \n",
    "m = folium.Map(location=[34.2,-118.2], \n",
    "               zoom_start = 9,\n",
    "               tiles='CartoDB positron', \n",
    "               attribution='CartoDB')\n",
    "\n",
    "# plot chorpleth over the base map\n",
    "folium.Choropleth(\n",
    "                  geo_data=tracts_disability, # geo data\n",
    "                  data=tracts_disability, # data          \n",
    "                  key_on='feature.properties.FIPS', # key, or merge column\n",
    "                  columns=['FIPS', 'PCT_Disability'], # [key, value]\n",
    "                  fill_color='YlOrBr',\n",
    "                  line_weight=0.1, \n",
    "                  fill_opacity=0.8,\n",
    "                  line_opacity=0.2, # line opacity (of the border)\n",
    "                  legend_name='Population Disability (2022)').add_to(m)  \n",
    "\n",
    "#create feature group so that business layer can be added to drop down\n",
    "f2=folium.FeatureGroup(name='Oil Wells').add_to(m)\n",
    "\n",
    "# add the businesses to the feature group\n",
    "for index, row in gdf_act.iterrows():\n",
    "    folium.Circle(\n",
    "        radius=1,\n",
    "        color=\"black\",\n",
    "        location=[row.Latitude,row.Longitude], \n",
    "        overlay=False).add_to(f2)\n",
    "\n",
    "folium.LayerControl(position='topright', collapsed=True, autoZIndex=True).add_to(m)\n",
    "\n",
    "m\n",
    "m.save('PCTDisability+oil.html')"
   ]
  },
  {
   "cell_type": "markdown",
   "id": "987d77f0-6d9a-4366-8215-36be15992c5e",
   "metadata": {},
   "source": [
    "I tried a couple of approaches to add clarity to the variation of disability across census tracts with the percentile measure. I think natural breaks could potentially be the solution, but I was having trouble downloading the required library.\n",
    "I created another visualization with the number of disabled people rather than percentile, which shows some of the variability, and might also be a useful measure from an understanding of the number of people exposed in areas. "
   ]
  },
  {
   "cell_type": "code",
   "execution_count": 45,
   "id": "99444203-bd7a-44b3-99fe-9629d53dafab",
   "metadata": {},
   "outputs": [],
   "source": [
    "m = folium.Map(location=[34.2,-118.2], \n",
    "               zoom_start = 9,\n",
    "               tiles='CartoDB positron', \n",
    "               attribution='CartoDB')\n",
    "\n",
    "# plot chorpleth over the base map\n",
    "folium.features.Choropleth(\n",
    "                  geo_data=tracts_disability, # geo data\n",
    "                  data=tracts_disability, # data          \n",
    "                  key_on='feature.properties.FIPS', # key, or merge column\n",
    "                  columns=['FIPS','Disabled'], # [key, value]\n",
    "                  fill_color='YlOrBr',\n",
    "                  line_weight=0.1, \n",
    "                  fill_opacity=0.8,\n",
    "                  line_opacity=0.2, # line opacity (of the border)\n",
    "                  legend_name='Population Disability (2022)').add_to(m)  \n",
    "\n",
    "#create feature group so that business layer can be added to drop down\n",
    "f2=folium.FeatureGroup(name='Oil Wells').add_to(m)\n",
    "\n",
    "# add the businesses to the feature group\n",
    "for index, row in gdf_act.iterrows():\n",
    "    folium.Circle(\n",
    "        radius=1,\n",
    "        color=\"black\",\n",
    "        location=[row.Latitude,row.Longitude], \n",
    "        overlay=False).add_to(f2)\n",
    "\n",
    "folium.LayerControl(position='topright', collapsed=True, autoZIndex=True).add_to(m)\n",
    "m.save('RawDataDisability+oil.html')"
   ]
  }
 ],
 "metadata": {
  "kernelspec": {
   "display_name": "Python 3 (ipykernel)",
   "language": "python",
   "name": "python3"
  },
  "language_info": {
   "codemirror_mode": {
    "name": "ipython",
    "version": 3
   },
   "file_extension": ".py",
   "mimetype": "text/x-python",
   "name": "python",
   "nbconvert_exporter": "python",
   "pygments_lexer": "ipython3",
   "version": "3.11.7"
  }
 },
 "nbformat": 4,
 "nbformat_minor": 5
}
