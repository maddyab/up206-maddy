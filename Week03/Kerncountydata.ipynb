{
 "cells": [
  {
   "cell_type": "code",
   "execution_count": null,
   "id": "721d0481-4e35-4cd4-abe4-8091f9c37d45",
   "metadata": {},
   "outputs": [],
   "source": [
    "#Assignment 3 start\n"
   ]
  },
  {
   "cell_type": "code",
   "execution_count": null,
   "id": "ade67473-a5eb-4218-b0a3-facde936f70f",
   "metadata": {},
   "outputs": [],
   "source": []
  }
 ],
 "metadata": {
  "kernelspec": {
   "display_name": "Python 3 (ipykernel)",
   "language": "python",
   "name": "python3"
  },
  "language_info": {
   "codemirror_mode": {
    "name": "ipython",
    "version": 3
   },
   "file_extension": ".py",
   "mimetype": "text/x-python",
   "name": "python",
   "nbconvert_exporter": "python",
   "pygments_lexer": "ipython3",
   "version": "3.11.7"
  }
 },
 "nbformat": 4,
 "nbformat_minor": 5
}
