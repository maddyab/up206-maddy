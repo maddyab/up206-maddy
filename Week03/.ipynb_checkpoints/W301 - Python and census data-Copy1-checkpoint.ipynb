{
 "cells": [
  {
   "cell_type": "markdown",
   "metadata": {
    "toc": true
   },
   "source": [
    "<h1>Table of Contents<span class=\"tocSkip\"></span></h1>\n",
    "<div class=\"toc\"><ul class=\"toc-item\"><li><span><a href=\"#Take-notice!\" data-toc-modified-id=\"Take-notice!-1\"><span class=\"toc-item-num\">1&nbsp;&nbsp;</span>Take notice!</a></span></li><li><span><a href=\"#Pandas-and-census-data\" data-toc-modified-id=\"Pandas-and-census-data-2\"><span class=\"toc-item-num\">2&nbsp;&nbsp;</span>Pandas and census data</a></span><ul class=\"toc-item\"><li><span><a href=\"#Where-to-get-census-data?\" data-toc-modified-id=\"Where-to-get-census-data?-2.1\"><span class=\"toc-item-num\">2.1&nbsp;&nbsp;</span>Where to get census data?</a></span><ul class=\"toc-item\"><li><span><a href=\"#Social-Explorer\" data-toc-modified-id=\"Social-Explorer-2.1.1\"><span class=\"toc-item-num\">2.1.1&nbsp;&nbsp;</span>Social Explorer</a></span></li></ul></li><li><span><a href=\"#Importing-data\" data-toc-modified-id=\"Importing-data-2.2\"><span class=\"toc-item-num\">2.2&nbsp;&nbsp;</span>Importing data</a></span></li><li><span><a href=\"#Preliminary-inspection\" data-toc-modified-id=\"Preliminary-inspection-2.3\"><span class=\"toc-item-num\">2.3&nbsp;&nbsp;</span>Preliminary inspection</a></span></li><li><span><a href=\"#Overwriting-default-display-settings\" data-toc-modified-id=\"Overwriting-default-display-settings-2.4\"><span class=\"toc-item-num\">2.4&nbsp;&nbsp;</span>Overwriting default display settings</a></span></li><li><span><a href=\"#Data-types\" data-toc-modified-id=\"Data-types-2.5\"><span class=\"toc-item-num\">2.5&nbsp;&nbsp;</span>Data types</a></span></li><li><span><a href=\"#Assigning-data-types-on-import\" data-toc-modified-id=\"Assigning-data-types-on-import-2.6\"><span class=\"toc-item-num\">2.6&nbsp;&nbsp;</span>Assigning data types on import</a></span><ul class=\"toc-item\"><li><span><a href=\"#The-leading-zero-dilemma...\" data-toc-modified-id=\"The-leading-zero-dilemma...-2.6.1\"><span class=\"toc-item-num\">2.6.1&nbsp;&nbsp;</span>The leading zero dilemma...</a></span></li><li><span><a href=\"#The-FIPS-code\" data-toc-modified-id=\"The-FIPS-code-2.6.2\"><span class=\"toc-item-num\">2.6.2&nbsp;&nbsp;</span>The FIPS code</a></span></li></ul></li><li><span><a href=\"#Drop/Delete-null-columns\" data-toc-modified-id=\"Drop/Delete-null-columns-2.7\"><span class=\"toc-item-num\">2.7&nbsp;&nbsp;</span>Drop/Delete null columns</a></span></li><li><span><a href=\"#Dropping-columns-by-name\" data-toc-modified-id=\"Dropping-columns-by-name-2.8\"><span class=\"toc-item-num\">2.8&nbsp;&nbsp;</span>Dropping columns by name</a></span></li><li><span><a href=\"#The-census-data-dictionary\" data-toc-modified-id=\"The-census-data-dictionary-2.9\"><span class=\"toc-item-num\">2.9&nbsp;&nbsp;</span>The census data dictionary</a></span></li><li><span><a href=\"#Renaming-columns\" data-toc-modified-id=\"Renaming-columns-2.10\"><span class=\"toc-item-num\">2.10&nbsp;&nbsp;</span>Renaming columns</a></span></li><li><span><a href=\"#Simple-stats-and-plots\" data-toc-modified-id=\"Simple-stats-and-plots-2.11\"><span class=\"toc-item-num\">2.11&nbsp;&nbsp;</span>Simple stats and plots</a></span></li><li><span><a href=\"#Displaying-null/missing-values\" data-toc-modified-id=\"Displaying-null/missing-values-2.12\"><span class=\"toc-item-num\">2.12&nbsp;&nbsp;</span>Displaying null/missing values</a></span></li><li><span><a href=\"#Sorting\" data-toc-modified-id=\"Sorting-2.13\"><span class=\"toc-item-num\">2.13&nbsp;&nbsp;</span>Sorting</a></span></li><li><span><a href=\"#Filtering-and-subsetting-data\" data-toc-modified-id=\"Filtering-and-subsetting-data-2.14\"><span class=\"toc-item-num\">2.14&nbsp;&nbsp;</span>Filtering and subsetting data</a></span></li></ul></li><li><span><a href=\"#Maps!\" data-toc-modified-id=\"Maps!-3\"><span class=\"toc-item-num\">3&nbsp;&nbsp;</span>Maps!</a></span><ul class=\"toc-item\"><li><span><a href=\"#Geopandas-to-read-geojson\" data-toc-modified-id=\"Geopandas-to-read-geojson-3.1\"><span class=\"toc-item-num\">3.1&nbsp;&nbsp;</span>Geopandas to read geojson</a></span></li><li><span><a href=\"#Merging/joining-data\" data-toc-modified-id=\"Merging/joining-data-3.2\"><span class=\"toc-item-num\">3.2&nbsp;&nbsp;</span>Merging/joining data</a></span></li><li><span><a href=\"#Additional-mapping-ideas\" data-toc-modified-id=\"Additional-mapping-ideas-3.3\"><span class=\"toc-item-num\">3.3&nbsp;&nbsp;</span>Additional mapping ideas</a></span></li><li><span><a href=\"#Folium\" data-toc-modified-id=\"Folium-3.4\"><span class=\"toc-item-num\">3.4&nbsp;&nbsp;</span>Folium</a></span></li></ul></li></ul></div>"
   ]
  },
  {
   "cell_type": "markdown",
   "metadata": {
    "slideshow": {
     "slide_type": "slide"
    }
   },
   "source": [
    "<div class=\"alert alert-danger\">\n",
    "\n",
    "<h1>Take notice!</h1>\n",
    "<ul>\n",
    "    <li>This class will be recorded</li>\n",
    "</ul>\n",
    "    \n",
    "</div>"
   ]
  },
  {
   "cell_type": "markdown",
   "metadata": {
    "slideshow": {
     "slide_type": "slide"
    }
   },
   "source": [
    "# Pandas and census data\n",
    "Overview of this week's notebook:\n",
    "\n",
    "- how and where to find and download census data\n",
    "- use `pandas` library to read a csv file\n",
    "- learn how to find empty columns and eliminate them\n",
    "- drop unnecessary columns\n",
    "- renaming columns\n",
    "- simple stats\n",
    "- geopandas and folium"
   ]
  },
  {
   "cell_type": "markdown",
   "metadata": {
    "slideshow": {
     "slide_type": "slide"
    }
   },
   "source": [
    "## Where to get census data?\n",
    "\n",
    "<img src=\"images/se_splash.jpg\" width=600>\n",
    "\n",
    "Well, you have many options, including, getting it directly from the source, the census bureau website itself. However, as part of the academic community, we are offered a great resource: Social Explorer. With a campus-wide license to have full access to their website, you can download any census variable, that pretty much existed... ever. And, with its easy-to-use user interface, this is a wonderful one-stop shop for your census needs."
   ]
  },
  {
   "cell_type": "markdown",
   "metadata": {
    "slideshow": {
     "slide_type": "slide"
    }
   },
   "source": [
    "### Social Explorer\n",
    "\n",
    "* Use the [campus VPN](https://www.it.ucla.edu/it-support-center/services/virtual-private-network-vpn-clients)\n",
    "* https://www.socialexplorer.com\n",
    "* Follow this guide on [how to download data from social explorer](https://github.com/yohman/up206a/blob/master/guides/social_explorer.md)"
   ]
  },
  {
   "cell_type": "markdown",
   "metadata": {
    "slideshow": {
     "slide_type": "slide"
    }
   },
   "source": [
    "## Importing data\n",
    "\n",
    "As always, in order to work with data in python, we need a library that will let us handle \"data exploration.\" We looked at geopandas last week, but let's go to its origin, the one and only, `pandas` library.\n",
    "\n",
    "* https://pandas.pydata.org/"
   ]
  },
  {
   "cell_type": "code",
   "execution_count": 1,
   "metadata": {},
   "outputs": [],
   "source": [
    "import pandas as pd"
   ]
  },
  {
   "cell_type": "markdown",
   "metadata": {
    "slideshow": {
     "slide_type": "slide"
    }
   },
   "source": [
    "Next, we make the call to load and read the data that was downloaded from social explorer. Again, take note at the relative path reference to find the file in your file directory."
   ]
  },
  {
   "cell_type": "code",
   "execution_count": 2,
   "metadata": {},
   "outputs": [],
   "source": [
    "# load a data file\n",
    "# note the relative filepath! where is this file located?\n",
    "df = pd.read_csv('../../24W-UP221/Weeks/Week03 Census Data/data/R13280610_SL140.csv')\n"
   ]
  },
  {
   "cell_type": "markdown",
   "metadata": {
    "slideshow": {
     "slide_type": "slide"
    }
   },
   "source": [
    "## Preliminary inspection\n",
    "A quick look at the size of the data."
   ]
  },
  {
   "cell_type": "code",
   "execution_count": 3,
   "metadata": {},
   "outputs": [
    {
     "data": {
      "text/plain": [
       "(2498, 50)"
      ]
     },
     "execution_count": 3,
     "metadata": {},
     "output_type": "execute_result"
    }
   ],
   "source": [
    "df.shape"
   ]
  },
  {
   "cell_type": "code",
   "execution_count": 4,
   "metadata": {
    "scrolled": true,
    "slideshow": {
     "slide_type": "slide"
    }
   },
   "outputs": [
    {
     "data": {
      "text/html": [
       "<div>\n",
       "<style scoped>\n",
       "    .dataframe tbody tr th:only-of-type {\n",
       "        vertical-align: middle;\n",
       "    }\n",
       "\n",
       "    .dataframe tbody tr th {\n",
       "        vertical-align: top;\n",
       "    }\n",
       "\n",
       "    .dataframe thead th {\n",
       "        text-align: right;\n",
       "    }\n",
       "</style>\n",
       "<table border=\"1\" class=\"dataframe\">\n",
       "  <thead>\n",
       "    <tr style=\"text-align: right;\">\n",
       "      <th></th>\n",
       "      <th>Geo_FIPS</th>\n",
       "      <th>Geo_NAME</th>\n",
       "      <th>Geo_QNAME</th>\n",
       "      <th>Geo_NATION</th>\n",
       "      <th>Geo_STATE</th>\n",
       "      <th>Geo_COUNTY</th>\n",
       "      <th>Geo_CS</th>\n",
       "      <th>Geo_CT</th>\n",
       "      <th>Geo_PLACE</th>\n",
       "      <th>Geo_CSA</th>\n",
       "      <th>...</th>\n",
       "      <th>SE_T017_020</th>\n",
       "      <th>SE_T017_002</th>\n",
       "      <th>SE_T017_004</th>\n",
       "      <th>SE_T017_006</th>\n",
       "      <th>SE_T017_008</th>\n",
       "      <th>SE_T017_010</th>\n",
       "      <th>SE_T017_012</th>\n",
       "      <th>SE_T017_014</th>\n",
       "      <th>SE_T017_016</th>\n",
       "      <th>SE_T017_018</th>\n",
       "    </tr>\n",
       "  </thead>\n",
       "  <tbody>\n",
       "    <tr>\n",
       "      <th>0</th>\n",
       "      <td>6037101110</td>\n",
       "      <td>Census Tract 1011.10</td>\n",
       "      <td>Census Tract 1011.10, Los Angeles County, Cali...</td>\n",
       "      <td>0</td>\n",
       "      <td>6</td>\n",
       "      <td>37</td>\n",
       "      <td>NaN</td>\n",
       "      <td>101110</td>\n",
       "      <td>NaN</td>\n",
       "      <td>NaN</td>\n",
       "      <td>...</td>\n",
       "      <td>4.121750</td>\n",
       "      <td>4.050484</td>\n",
       "      <td>6.927711</td>\n",
       "      <td>-12.162162</td>\n",
       "      <td>-50.000000</td>\n",
       "      <td>-10.699588</td>\n",
       "      <td>100.0</td>\n",
       "      <td>-53.333333</td>\n",
       "      <td>23.776224</td>\n",
       "      <td>4.305136</td>\n",
       "    </tr>\n",
       "    <tr>\n",
       "      <th>1</th>\n",
       "      <td>6037101122</td>\n",
       "      <td>Census Tract 1011.22</td>\n",
       "      <td>Census Tract 1011.22, Los Angeles County, Cali...</td>\n",
       "      <td>0</td>\n",
       "      <td>6</td>\n",
       "      <td>37</td>\n",
       "      <td>NaN</td>\n",
       "      <td>101122</td>\n",
       "      <td>NaN</td>\n",
       "      <td>NaN</td>\n",
       "      <td>...</td>\n",
       "      <td>1.746725</td>\n",
       "      <td>3.140175</td>\n",
       "      <td>7.263028</td>\n",
       "      <td>19.230769</td>\n",
       "      <td>75.000000</td>\n",
       "      <td>-20.808081</td>\n",
       "      <td>-100.0</td>\n",
       "      <td>130.000000</td>\n",
       "      <td>2.586207</td>\n",
       "      <td>-5.739130</td>\n",
       "    </tr>\n",
       "    <tr>\n",
       "      <th>2</th>\n",
       "      <td>6037101220</td>\n",
       "      <td>Census Tract 1012.20</td>\n",
       "      <td>Census Tract 1012.20, Los Angeles County, Cali...</td>\n",
       "      <td>0</td>\n",
       "      <td>6</td>\n",
       "      <td>37</td>\n",
       "      <td>NaN</td>\n",
       "      <td>101220</td>\n",
       "      <td>NaN</td>\n",
       "      <td>NaN</td>\n",
       "      <td>...</td>\n",
       "      <td>-0.564972</td>\n",
       "      <td>8.225729</td>\n",
       "      <td>5.354994</td>\n",
       "      <td>-5.555556</td>\n",
       "      <td>-63.636364</td>\n",
       "      <td>29.411765</td>\n",
       "      <td>-100.0</td>\n",
       "      <td>600.000000</td>\n",
       "      <td>-3.809524</td>\n",
       "      <td>-15.015723</td>\n",
       "    </tr>\n",
       "    <tr>\n",
       "      <th>3</th>\n",
       "      <td>6037101221</td>\n",
       "      <td>Census Tract 1012.21</td>\n",
       "      <td>Census Tract 1012.21, Los Angeles County, Cali...</td>\n",
       "      <td>0</td>\n",
       "      <td>6</td>\n",
       "      <td>37</td>\n",
       "      <td>NaN</td>\n",
       "      <td>101221</td>\n",
       "      <td>NaN</td>\n",
       "      <td>NaN</td>\n",
       "      <td>...</td>\n",
       "      <td>0.291206</td>\n",
       "      <td>0.132567</td>\n",
       "      <td>5.444126</td>\n",
       "      <td>-17.977528</td>\n",
       "      <td>-25.000000</td>\n",
       "      <td>-5.747126</td>\n",
       "      <td>0.0</td>\n",
       "      <td>100.000000</td>\n",
       "      <td>-41.666667</td>\n",
       "      <td>0.597780</td>\n",
       "    </tr>\n",
       "    <tr>\n",
       "      <th>4</th>\n",
       "      <td>6037101222</td>\n",
       "      <td>Census Tract 1012.22</td>\n",
       "      <td>Census Tract 1012.22, Los Angeles County, Cali...</td>\n",
       "      <td>0</td>\n",
       "      <td>6</td>\n",
       "      <td>37</td>\n",
       "      <td>NaN</td>\n",
       "      <td>101222</td>\n",
       "      <td>NaN</td>\n",
       "      <td>NaN</td>\n",
       "      <td>...</td>\n",
       "      <td>9.859155</td>\n",
       "      <td>17.241379</td>\n",
       "      <td>27.074236</td>\n",
       "      <td>-19.148936</td>\n",
       "      <td>50.000000</td>\n",
       "      <td>-20.855615</td>\n",
       "      <td>NaN</td>\n",
       "      <td>NaN</td>\n",
       "      <td>-2.500000</td>\n",
       "      <td>-0.763359</td>\n",
       "    </tr>\n",
       "  </tbody>\n",
       "</table>\n",
       "<p>5 rows × 50 columns</p>\n",
       "</div>"
      ],
      "text/plain": [
       "     Geo_FIPS              Geo_NAME  \\\n",
       "0  6037101110  Census Tract 1011.10   \n",
       "1  6037101122  Census Tract 1011.22   \n",
       "2  6037101220  Census Tract 1012.20   \n",
       "3  6037101221  Census Tract 1012.21   \n",
       "4  6037101222  Census Tract 1012.22   \n",
       "\n",
       "                                           Geo_QNAME  Geo_NATION  Geo_STATE  \\\n",
       "0  Census Tract 1011.10, Los Angeles County, Cali...           0          6   \n",
       "1  Census Tract 1011.22, Los Angeles County, Cali...           0          6   \n",
       "2  Census Tract 1012.20, Los Angeles County, Cali...           0          6   \n",
       "3  Census Tract 1012.21, Los Angeles County, Cali...           0          6   \n",
       "4  Census Tract 1012.22, Los Angeles County, Cali...           0          6   \n",
       "\n",
       "   Geo_COUNTY  Geo_CS  Geo_CT  Geo_PLACE  Geo_CSA  ...  SE_T017_020  \\\n",
       "0          37     NaN  101110        NaN      NaN  ...     4.121750   \n",
       "1          37     NaN  101122        NaN      NaN  ...     1.746725   \n",
       "2          37     NaN  101220        NaN      NaN  ...    -0.564972   \n",
       "3          37     NaN  101221        NaN      NaN  ...     0.291206   \n",
       "4          37     NaN  101222        NaN      NaN  ...     9.859155   \n",
       "\n",
       "   SE_T017_002  SE_T017_004  SE_T017_006  SE_T017_008  SE_T017_010  \\\n",
       "0     4.050484     6.927711   -12.162162   -50.000000   -10.699588   \n",
       "1     3.140175     7.263028    19.230769    75.000000   -20.808081   \n",
       "2     8.225729     5.354994    -5.555556   -63.636364    29.411765   \n",
       "3     0.132567     5.444126   -17.977528   -25.000000    -5.747126   \n",
       "4    17.241379    27.074236   -19.148936    50.000000   -20.855615   \n",
       "\n",
       "   SE_T017_012  SE_T017_014  SE_T017_016  SE_T017_018  \n",
       "0        100.0   -53.333333    23.776224     4.305136  \n",
       "1       -100.0   130.000000     2.586207    -5.739130  \n",
       "2       -100.0   600.000000    -3.809524   -15.015723  \n",
       "3          0.0   100.000000   -41.666667     0.597780  \n",
       "4          NaN          NaN    -2.500000    -0.763359  \n",
       "\n",
       "[5 rows x 50 columns]"
      ]
     },
     "execution_count": 4,
     "metadata": {},
     "output_type": "execute_result"
    }
   ],
   "source": [
    "df.head()"
   ]
  },
  {
   "cell_type": "markdown",
   "metadata": {
    "slideshow": {
     "slide_type": "slide"
    }
   },
   "source": [
    "## Overwriting default display settings \n",
    "By default, pandas outputs the first 10 and last 10 columns. If we want to see the entire table, we can override the defaults. Use with caution!"
   ]
  },
  {
   "cell_type": "code",
   "execution_count": 5,
   "metadata": {},
   "outputs": [],
   "source": [
    "# I want to see all the data\n",
    "pd.set_option('display.max_columns', None)\n",
    "pd.set_option('display.max_rows', None)"
   ]
  },
  {
   "cell_type": "code",
   "execution_count": 6,
   "metadata": {},
   "outputs": [
    {
     "data": {
      "text/html": [
       "<div>\n",
       "<style scoped>\n",
       "    .dataframe tbody tr th:only-of-type {\n",
       "        vertical-align: middle;\n",
       "    }\n",
       "\n",
       "    .dataframe tbody tr th {\n",
       "        vertical-align: top;\n",
       "    }\n",
       "\n",
       "    .dataframe thead th {\n",
       "        text-align: right;\n",
       "    }\n",
       "</style>\n",
       "<table border=\"1\" class=\"dataframe\">\n",
       "  <thead>\n",
       "    <tr style=\"text-align: right;\">\n",
       "      <th></th>\n",
       "      <th>Geo_FIPS</th>\n",
       "      <th>Geo_NAME</th>\n",
       "      <th>Geo_QNAME</th>\n",
       "      <th>Geo_NATION</th>\n",
       "      <th>Geo_STATE</th>\n",
       "      <th>Geo_COUNTY</th>\n",
       "      <th>Geo_CS</th>\n",
       "      <th>Geo_CT</th>\n",
       "      <th>Geo_PLACE</th>\n",
       "      <th>Geo_CSA</th>\n",
       "      <th>SE_T004_019</th>\n",
       "      <th>SE_T004_001</th>\n",
       "      <th>SE_T004_003</th>\n",
       "      <th>SE_T004_005</th>\n",
       "      <th>SE_T004_007</th>\n",
       "      <th>SE_T004_009</th>\n",
       "      <th>SE_T004_011</th>\n",
       "      <th>SE_T004_013</th>\n",
       "      <th>SE_T004_015</th>\n",
       "      <th>SE_T004_017</th>\n",
       "      <th>SE_T005_019</th>\n",
       "      <th>SE_T005_001</th>\n",
       "      <th>SE_T005_003</th>\n",
       "      <th>SE_T005_005</th>\n",
       "      <th>SE_T005_007</th>\n",
       "      <th>SE_T005_009</th>\n",
       "      <th>SE_T005_011</th>\n",
       "      <th>SE_T005_013</th>\n",
       "      <th>SE_T005_015</th>\n",
       "      <th>SE_T005_017</th>\n",
       "      <th>SE_T006_019</th>\n",
       "      <th>SE_T006_001</th>\n",
       "      <th>SE_T006_003</th>\n",
       "      <th>SE_T006_005</th>\n",
       "      <th>SE_T006_007</th>\n",
       "      <th>SE_T006_009</th>\n",
       "      <th>SE_T006_011</th>\n",
       "      <th>SE_T006_013</th>\n",
       "      <th>SE_T006_015</th>\n",
       "      <th>SE_T006_017</th>\n",
       "      <th>SE_T017_020</th>\n",
       "      <th>SE_T017_002</th>\n",
       "      <th>SE_T017_004</th>\n",
       "      <th>SE_T017_006</th>\n",
       "      <th>SE_T017_008</th>\n",
       "      <th>SE_T017_010</th>\n",
       "      <th>SE_T017_012</th>\n",
       "      <th>SE_T017_014</th>\n",
       "      <th>SE_T017_016</th>\n",
       "      <th>SE_T017_018</th>\n",
       "    </tr>\n",
       "  </thead>\n",
       "  <tbody>\n",
       "    <tr>\n",
       "      <th>300</th>\n",
       "      <td>6037134201</td>\n",
       "      <td>Census Tract 1342.01</td>\n",
       "      <td>Census Tract 1342.01, Los Angeles County, Cali...</td>\n",
       "      <td>0</td>\n",
       "      <td>6</td>\n",
       "      <td>37</td>\n",
       "      <td>NaN</td>\n",
       "      <td>134201</td>\n",
       "      <td>NaN</td>\n",
       "      <td>NaN</td>\n",
       "      <td>4271</td>\n",
       "      <td>1975</td>\n",
       "      <td>1028</td>\n",
       "      <td>127</td>\n",
       "      <td>5</td>\n",
       "      <td>646</td>\n",
       "      <td>2</td>\n",
       "      <td>44</td>\n",
       "      <td>123</td>\n",
       "      <td>2296</td>\n",
       "      <td>4270.0</td>\n",
       "      <td>1942.0</td>\n",
       "      <td>1180.0</td>\n",
       "      <td>105.0</td>\n",
       "      <td>4.0</td>\n",
       "      <td>570.0</td>\n",
       "      <td>5.0</td>\n",
       "      <td>6.0</td>\n",
       "      <td>72.0</td>\n",
       "      <td>2328.0</td>\n",
       "      <td>1.0</td>\n",
       "      <td>33.0</td>\n",
       "      <td>-152.0</td>\n",
       "      <td>22.0</td>\n",
       "      <td>1.0</td>\n",
       "      <td>76.0</td>\n",
       "      <td>-3.0</td>\n",
       "      <td>38.0</td>\n",
       "      <td>51.0</td>\n",
       "      <td>-32.0</td>\n",
       "      <td>0.023419</td>\n",
       "      <td>1.699279</td>\n",
       "      <td>-12.881356</td>\n",
       "      <td>20.952381</td>\n",
       "      <td>25.0</td>\n",
       "      <td>13.333333</td>\n",
       "      <td>-60.0</td>\n",
       "      <td>633.333333</td>\n",
       "      <td>70.833333</td>\n",
       "      <td>-1.37457</td>\n",
       "    </tr>\n",
       "  </tbody>\n",
       "</table>\n",
       "</div>"
      ],
      "text/plain": [
       "       Geo_FIPS              Geo_NAME  \\\n",
       "300  6037134201  Census Tract 1342.01   \n",
       "\n",
       "                                             Geo_QNAME  Geo_NATION  Geo_STATE  \\\n",
       "300  Census Tract 1342.01, Los Angeles County, Cali...           0          6   \n",
       "\n",
       "     Geo_COUNTY  Geo_CS  Geo_CT  Geo_PLACE  Geo_CSA  SE_T004_019  SE_T004_001  \\\n",
       "300          37     NaN  134201        NaN      NaN         4271         1975   \n",
       "\n",
       "     SE_T004_003  SE_T004_005  SE_T004_007  SE_T004_009  SE_T004_011  \\\n",
       "300         1028          127            5          646            2   \n",
       "\n",
       "     SE_T004_013  SE_T004_015  SE_T004_017  SE_T005_019  SE_T005_001  \\\n",
       "300           44          123         2296       4270.0       1942.0   \n",
       "\n",
       "     SE_T005_003  SE_T005_005  SE_T005_007  SE_T005_009  SE_T005_011  \\\n",
       "300       1180.0        105.0          4.0        570.0          5.0   \n",
       "\n",
       "     SE_T005_013  SE_T005_015  SE_T005_017  SE_T006_019  SE_T006_001  \\\n",
       "300          6.0         72.0       2328.0          1.0         33.0   \n",
       "\n",
       "     SE_T006_003  SE_T006_005  SE_T006_007  SE_T006_009  SE_T006_011  \\\n",
       "300       -152.0         22.0          1.0         76.0         -3.0   \n",
       "\n",
       "     SE_T006_013  SE_T006_015  SE_T006_017  SE_T017_020  SE_T017_002  \\\n",
       "300         38.0         51.0        -32.0     0.023419     1.699279   \n",
       "\n",
       "     SE_T017_004  SE_T017_006  SE_T017_008  SE_T017_010  SE_T017_012  \\\n",
       "300   -12.881356    20.952381         25.0    13.333333        -60.0   \n",
       "\n",
       "     SE_T017_014  SE_T017_016  SE_T017_018  \n",
       "300   633.333333    70.833333     -1.37457  "
      ]
     },
     "execution_count": 6,
     "metadata": {},
     "output_type": "execute_result"
    }
   ],
   "source": [
    "df.sample()"
   ]
  },
  {
   "cell_type": "markdown",
   "metadata": {
    "slideshow": {
     "slide_type": "slide"
    }
   },
   "source": [
    "## Data types\n",
    "\n",
    "To get the data types, we will use `.info()`. Notice the new arguments within: `verbose=True, show_counts=True`. This is necessary because our data has so many columns."
   ]
  },
  {
   "cell_type": "code",
   "execution_count": 7,
   "metadata": {
    "scrolled": true
   },
   "outputs": [
    {
     "name": "stdout",
     "output_type": "stream",
     "text": [
      "<class 'pandas.core.frame.DataFrame'>\n",
      "RangeIndex: 2498 entries, 0 to 2497\n",
      "Data columns (total 50 columns):\n",
      " #   Column       Non-Null Count  Dtype  \n",
      "---  ------       --------------  -----  \n",
      " 0   Geo_FIPS     2498 non-null   int64  \n",
      " 1   Geo_NAME     2498 non-null   object \n",
      " 2   Geo_QNAME    2498 non-null   object \n",
      " 3   Geo_NATION   2498 non-null   int64  \n",
      " 4   Geo_STATE    2498 non-null   int64  \n",
      " 5   Geo_COUNTY   2498 non-null   int64  \n",
      " 6   Geo_CS       0 non-null      float64\n",
      " 7   Geo_CT       2498 non-null   int64  \n",
      " 8   Geo_PLACE    0 non-null      float64\n",
      " 9   Geo_CSA      0 non-null      float64\n",
      " 10  SE_T004_019  2498 non-null   int64  \n",
      " 11  SE_T004_001  2498 non-null   int64  \n",
      " 12  SE_T004_003  2498 non-null   int64  \n",
      " 13  SE_T004_005  2498 non-null   int64  \n",
      " 14  SE_T004_007  2498 non-null   int64  \n",
      " 15  SE_T004_009  2498 non-null   int64  \n",
      " 16  SE_T004_011  2498 non-null   int64  \n",
      " 17  SE_T004_013  2498 non-null   int64  \n",
      " 18  SE_T004_015  2498 non-null   int64  \n",
      " 19  SE_T004_017  2498 non-null   int64  \n",
      " 20  SE_T005_019  2498 non-null   float64\n",
      " 21  SE_T005_001  2495 non-null   float64\n",
      " 22  SE_T005_003  2495 non-null   float64\n",
      " 23  SE_T005_005  2495 non-null   float64\n",
      " 24  SE_T005_007  2495 non-null   float64\n",
      " 25  SE_T005_009  2495 non-null   float64\n",
      " 26  SE_T005_011  2495 non-null   float64\n",
      " 27  SE_T005_013  2495 non-null   float64\n",
      " 28  SE_T005_015  2495 non-null   float64\n",
      " 29  SE_T005_017  2495 non-null   float64\n",
      " 30  SE_T006_019  2495 non-null   float64\n",
      " 31  SE_T006_001  2495 non-null   float64\n",
      " 32  SE_T006_003  2495 non-null   float64\n",
      " 33  SE_T006_005  2495 non-null   float64\n",
      " 34  SE_T006_007  2495 non-null   float64\n",
      " 35  SE_T006_009  2495 non-null   float64\n",
      " 36  SE_T006_011  2495 non-null   float64\n",
      " 37  SE_T006_013  2495 non-null   float64\n",
      " 38  SE_T006_015  2495 non-null   float64\n",
      " 39  SE_T006_017  2495 non-null   float64\n",
      " 40  SE_T017_020  2487 non-null   float64\n",
      " 41  SE_T017_002  2487 non-null   float64\n",
      " 42  SE_T017_004  2486 non-null   float64\n",
      " 43  SE_T017_006  2479 non-null   float64\n",
      " 44  SE_T017_008  2349 non-null   float64\n",
      " 45  SE_T017_010  2472 non-null   float64\n",
      " 46  SE_T017_012  1997 non-null   float64\n",
      " 47  SE_T017_014  2396 non-null   float64\n",
      " 48  SE_T017_016  2472 non-null   float64\n",
      " 49  SE_T017_018  2484 non-null   float64\n",
      "dtypes: float64(33), int64(15), object(2)\n",
      "memory usage: 975.9+ KB\n"
     ]
    }
   ],
   "source": [
    "# look at the data types, verbose = True shows us all the counts\n",
    "df.info(verbose=True, show_counts=True)"
   ]
  },
  {
   "cell_type": "markdown",
   "metadata": {
    "slideshow": {
     "slide_type": "slide"
    }
   },
   "source": [
    "## Assigning data types on import\n",
    "\n",
    "Let's take a closer look at the column that will become our unique identifier, `Geo_FIPS`."
   ]
  },
  {
   "cell_type": "code",
   "execution_count": 8,
   "metadata": {},
   "outputs": [
    {
     "data": {
      "text/plain": [
       "0    6037101110\n",
       "1    6037101122\n",
       "2    6037101220\n",
       "3    6037101221\n",
       "4    6037101222\n",
       "Name: Geo_FIPS, dtype: int64"
      ]
     },
     "execution_count": 8,
     "metadata": {},
     "output_type": "execute_result"
    }
   ],
   "source": [
    "df.Geo_FIPS.head()"
   ]
  },
  {
   "cell_type": "markdown",
   "metadata": {
    "slideshow": {
     "slide_type": "slide"
    }
   },
   "source": [
    "### The leading zero dilemma...\n",
    "Waaaaaiiit... what happened to the leading \"0\" in the `Geo_FIPS` code? And for that matter, the `geo_STATE` and `geo_COUNTY` columns?"
   ]
  },
  {
   "cell_type": "code",
   "execution_count": 9,
   "metadata": {
    "slideshow": {
     "slide_type": "fragment"
    }
   },
   "outputs": [
    {
     "data": {
      "text/plain": [
       "0    6\n",
       "1    6\n",
       "2    6\n",
       "3    6\n",
       "4    6\n",
       "Name: Geo_STATE, dtype: int64"
      ]
     },
     "execution_count": 9,
     "metadata": {},
     "output_type": "execute_result"
    }
   ],
   "source": [
    "df.Geo_STATE.head()"
   ]
  },
  {
   "cell_type": "code",
   "execution_count": 10,
   "metadata": {
    "slideshow": {
     "slide_type": "fragment"
    }
   },
   "outputs": [
    {
     "data": {
      "text/plain": [
       "0    37\n",
       "1    37\n",
       "2    37\n",
       "3    37\n",
       "4    37\n",
       "Name: Geo_COUNTY, dtype: int64"
      ]
     },
     "execution_count": 10,
     "metadata": {},
     "output_type": "execute_result"
    }
   ],
   "source": [
    "df.Geo_COUNTY.head()"
   ]
  },
  {
   "cell_type": "markdown",
   "metadata": {
    "slideshow": {
     "slide_type": "slide"
    }
   },
   "source": [
    "### The FIPS code\n",
    "But what is a FIPS code and why is it important?\n",
    "\n",
    "![fips](images/fips.png)"
   ]
  },
  {
   "cell_type": "markdown",
   "metadata": {
    "slideshow": {
     "slide_type": "slide"
    }
   },
   "source": [
    "![fips code](https://learn.arcgis.com/en/related-concepts/GUID-D7AA4FD1-E7FE-49D7-9D11-07915C9ACC68-web.png)\n",
    "\n",
    "[Source: ESRI](https://learn.arcgis.com/en/related-concepts/united-states-census-geography.htm)"
   ]
  },
  {
   "cell_type": "markdown",
   "metadata": {
    "slideshow": {
     "slide_type": "slide"
    }
   },
   "source": [
    "That's right, python automatically makes decisions on import, and interprets \"FIPS\" as an integer column (after all, it's all numbers aren't they), thus cropping the leading zeroes. But no, that [leading zero](https://en.wikipedia.org/wiki/Leading_zero) is extremely important, as `06` represents the state of California, and `037` represents LA County. \n",
    "\n",
    "Let's fix this by re-importing the data, this time, specifying the `FIPS` columns as a string:"
   ]
  },
  {
   "cell_type": "code",
   "execution_count": 11,
   "metadata": {
    "slideshow": {
     "slide_type": "fragment"
    }
   },
   "outputs": [],
   "source": [
    "#dtype ensures that the columns are read in as strings for leading zeros\n",
    "df = pd.read_csv(\n",
    "    '../../24W-UP221/Weeks/Week03 Census Data/data/R13280610_SL140.csv',\n",
    "    dtype=\n",
    "    {\n",
    "        'Geo_FIPS':str,\n",
    "        'Geo_STATE':str,\n",
    "        'Geo_COUNTY': str\n",
    "    }\n",
    ")"
   ]
  },
  {
   "cell_type": "code",
   "execution_count": 12,
   "metadata": {
    "slideshow": {
     "slide_type": "slide"
    }
   },
   "outputs": [
    {
     "data": {
      "text/html": [
       "<div>\n",
       "<style scoped>\n",
       "    .dataframe tbody tr th:only-of-type {\n",
       "        vertical-align: middle;\n",
       "    }\n",
       "\n",
       "    .dataframe tbody tr th {\n",
       "        vertical-align: top;\n",
       "    }\n",
       "\n",
       "    .dataframe thead th {\n",
       "        text-align: right;\n",
       "    }\n",
       "</style>\n",
       "<table border=\"1\" class=\"dataframe\">\n",
       "  <thead>\n",
       "    <tr style=\"text-align: right;\">\n",
       "      <th></th>\n",
       "      <th>Geo_FIPS</th>\n",
       "      <th>Geo_NAME</th>\n",
       "      <th>Geo_QNAME</th>\n",
       "      <th>Geo_NATION</th>\n",
       "      <th>Geo_STATE</th>\n",
       "      <th>Geo_COUNTY</th>\n",
       "      <th>Geo_CS</th>\n",
       "      <th>Geo_CT</th>\n",
       "      <th>Geo_PLACE</th>\n",
       "      <th>Geo_CSA</th>\n",
       "      <th>SE_T004_019</th>\n",
       "      <th>SE_T004_001</th>\n",
       "      <th>SE_T004_003</th>\n",
       "      <th>SE_T004_005</th>\n",
       "      <th>SE_T004_007</th>\n",
       "      <th>SE_T004_009</th>\n",
       "      <th>SE_T004_011</th>\n",
       "      <th>SE_T004_013</th>\n",
       "      <th>SE_T004_015</th>\n",
       "      <th>SE_T004_017</th>\n",
       "      <th>SE_T005_019</th>\n",
       "      <th>SE_T005_001</th>\n",
       "      <th>SE_T005_003</th>\n",
       "      <th>SE_T005_005</th>\n",
       "      <th>SE_T005_007</th>\n",
       "      <th>SE_T005_009</th>\n",
       "      <th>SE_T005_011</th>\n",
       "      <th>SE_T005_013</th>\n",
       "      <th>SE_T005_015</th>\n",
       "      <th>SE_T005_017</th>\n",
       "      <th>SE_T006_019</th>\n",
       "      <th>SE_T006_001</th>\n",
       "      <th>SE_T006_003</th>\n",
       "      <th>SE_T006_005</th>\n",
       "      <th>SE_T006_007</th>\n",
       "      <th>SE_T006_009</th>\n",
       "      <th>SE_T006_011</th>\n",
       "      <th>SE_T006_013</th>\n",
       "      <th>SE_T006_015</th>\n",
       "      <th>SE_T006_017</th>\n",
       "      <th>SE_T017_020</th>\n",
       "      <th>SE_T017_002</th>\n",
       "      <th>SE_T017_004</th>\n",
       "      <th>SE_T017_006</th>\n",
       "      <th>SE_T017_008</th>\n",
       "      <th>SE_T017_010</th>\n",
       "      <th>SE_T017_012</th>\n",
       "      <th>SE_T017_014</th>\n",
       "      <th>SE_T017_016</th>\n",
       "      <th>SE_T017_018</th>\n",
       "    </tr>\n",
       "  </thead>\n",
       "  <tbody>\n",
       "    <tr>\n",
       "      <th>0</th>\n",
       "      <td>06037101110</td>\n",
       "      <td>Census Tract 1011.10</td>\n",
       "      <td>Census Tract 1011.10, Los Angeles County, Cali...</td>\n",
       "      <td>0</td>\n",
       "      <td>06</td>\n",
       "      <td>037</td>\n",
       "      <td>NaN</td>\n",
       "      <td>101110</td>\n",
       "      <td>NaN</td>\n",
       "      <td>NaN</td>\n",
       "      <td>4926</td>\n",
       "      <td>3545</td>\n",
       "      <td>2840</td>\n",
       "      <td>65</td>\n",
       "      <td>7</td>\n",
       "      <td>434</td>\n",
       "      <td>8</td>\n",
       "      <td>14</td>\n",
       "      <td>177</td>\n",
       "      <td>1381</td>\n",
       "      <td>4731.0</td>\n",
       "      <td>3407.0</td>\n",
       "      <td>2656.0</td>\n",
       "      <td>74.0</td>\n",
       "      <td>14.0</td>\n",
       "      <td>486.0</td>\n",
       "      <td>4.0</td>\n",
       "      <td>30.0</td>\n",
       "      <td>143.0</td>\n",
       "      <td>1324.0</td>\n",
       "      <td>195.0</td>\n",
       "      <td>138.0</td>\n",
       "      <td>184.0</td>\n",
       "      <td>-9.0</td>\n",
       "      <td>-7.0</td>\n",
       "      <td>-52.0</td>\n",
       "      <td>4.0</td>\n",
       "      <td>-16.0</td>\n",
       "      <td>34.0</td>\n",
       "      <td>57.0</td>\n",
       "      <td>4.121750</td>\n",
       "      <td>4.050484</td>\n",
       "      <td>6.927711</td>\n",
       "      <td>-12.162162</td>\n",
       "      <td>-50.000000</td>\n",
       "      <td>-10.699588</td>\n",
       "      <td>100.0</td>\n",
       "      <td>-53.333333</td>\n",
       "      <td>23.776224</td>\n",
       "      <td>4.305136</td>\n",
       "    </tr>\n",
       "    <tr>\n",
       "      <th>1</th>\n",
       "      <td>06037101122</td>\n",
       "      <td>Census Tract 1011.22</td>\n",
       "      <td>Census Tract 1011.22, Los Angeles County, Cali...</td>\n",
       "      <td>0</td>\n",
       "      <td>06</td>\n",
       "      <td>037</td>\n",
       "      <td>NaN</td>\n",
       "      <td>101122</td>\n",
       "      <td>NaN</td>\n",
       "      <td>NaN</td>\n",
       "      <td>3728</td>\n",
       "      <td>3186</td>\n",
       "      <td>2614</td>\n",
       "      <td>31</td>\n",
       "      <td>7</td>\n",
       "      <td>392</td>\n",
       "      <td>0</td>\n",
       "      <td>23</td>\n",
       "      <td>119</td>\n",
       "      <td>542</td>\n",
       "      <td>3664.0</td>\n",
       "      <td>3089.0</td>\n",
       "      <td>2437.0</td>\n",
       "      <td>26.0</td>\n",
       "      <td>4.0</td>\n",
       "      <td>495.0</td>\n",
       "      <td>1.0</td>\n",
       "      <td>10.0</td>\n",
       "      <td>116.0</td>\n",
       "      <td>575.0</td>\n",
       "      <td>64.0</td>\n",
       "      <td>97.0</td>\n",
       "      <td>177.0</td>\n",
       "      <td>5.0</td>\n",
       "      <td>3.0</td>\n",
       "      <td>-103.0</td>\n",
       "      <td>-1.0</td>\n",
       "      <td>13.0</td>\n",
       "      <td>3.0</td>\n",
       "      <td>-33.0</td>\n",
       "      <td>1.746725</td>\n",
       "      <td>3.140175</td>\n",
       "      <td>7.263028</td>\n",
       "      <td>19.230769</td>\n",
       "      <td>75.000000</td>\n",
       "      <td>-20.808081</td>\n",
       "      <td>-100.0</td>\n",
       "      <td>130.000000</td>\n",
       "      <td>2.586207</td>\n",
       "      <td>-5.739130</td>\n",
       "    </tr>\n",
       "    <tr>\n",
       "      <th>2</th>\n",
       "      <td>06037101220</td>\n",
       "      <td>Census Tract 1012.20</td>\n",
       "      <td>Census Tract 1012.20, Los Angeles County, Cali...</td>\n",
       "      <td>0</td>\n",
       "      <td>06</td>\n",
       "      <td>037</td>\n",
       "      <td>NaN</td>\n",
       "      <td>101220</td>\n",
       "      <td>NaN</td>\n",
       "      <td>NaN</td>\n",
       "      <td>3344</td>\n",
       "      <td>2263</td>\n",
       "      <td>1751</td>\n",
       "      <td>34</td>\n",
       "      <td>4</td>\n",
       "      <td>352</td>\n",
       "      <td>0</td>\n",
       "      <td>21</td>\n",
       "      <td>101</td>\n",
       "      <td>1081</td>\n",
       "      <td>3363.0</td>\n",
       "      <td>2091.0</td>\n",
       "      <td>1662.0</td>\n",
       "      <td>36.0</td>\n",
       "      <td>11.0</td>\n",
       "      <td>272.0</td>\n",
       "      <td>2.0</td>\n",
       "      <td>3.0</td>\n",
       "      <td>105.0</td>\n",
       "      <td>1272.0</td>\n",
       "      <td>-19.0</td>\n",
       "      <td>172.0</td>\n",
       "      <td>89.0</td>\n",
       "      <td>-2.0</td>\n",
       "      <td>-7.0</td>\n",
       "      <td>80.0</td>\n",
       "      <td>-2.0</td>\n",
       "      <td>18.0</td>\n",
       "      <td>-4.0</td>\n",
       "      <td>-191.0</td>\n",
       "      <td>-0.564972</td>\n",
       "      <td>8.225729</td>\n",
       "      <td>5.354994</td>\n",
       "      <td>-5.555556</td>\n",
       "      <td>-63.636364</td>\n",
       "      <td>29.411765</td>\n",
       "      <td>-100.0</td>\n",
       "      <td>600.000000</td>\n",
       "      <td>-3.809524</td>\n",
       "      <td>-15.015723</td>\n",
       "    </tr>\n",
       "    <tr>\n",
       "      <th>3</th>\n",
       "      <td>06037101221</td>\n",
       "      <td>Census Tract 1012.21</td>\n",
       "      <td>Census Tract 1012.21, Los Angeles County, Cali...</td>\n",
       "      <td>0</td>\n",
       "      <td>06</td>\n",
       "      <td>037</td>\n",
       "      <td>NaN</td>\n",
       "      <td>101221</td>\n",
       "      <td>NaN</td>\n",
       "      <td>NaN</td>\n",
       "      <td>3444</td>\n",
       "      <td>2266</td>\n",
       "      <td>1840</td>\n",
       "      <td>73</td>\n",
       "      <td>3</td>\n",
       "      <td>246</td>\n",
       "      <td>3</td>\n",
       "      <td>10</td>\n",
       "      <td>91</td>\n",
       "      <td>1178</td>\n",
       "      <td>3434.0</td>\n",
       "      <td>2263.0</td>\n",
       "      <td>1745.0</td>\n",
       "      <td>89.0</td>\n",
       "      <td>4.0</td>\n",
       "      <td>261.0</td>\n",
       "      <td>3.0</td>\n",
       "      <td>5.0</td>\n",
       "      <td>156.0</td>\n",
       "      <td>1171.0</td>\n",
       "      <td>10.0</td>\n",
       "      <td>3.0</td>\n",
       "      <td>95.0</td>\n",
       "      <td>-16.0</td>\n",
       "      <td>-1.0</td>\n",
       "      <td>-15.0</td>\n",
       "      <td>0.0</td>\n",
       "      <td>5.0</td>\n",
       "      <td>-65.0</td>\n",
       "      <td>7.0</td>\n",
       "      <td>0.291206</td>\n",
       "      <td>0.132567</td>\n",
       "      <td>5.444126</td>\n",
       "      <td>-17.977528</td>\n",
       "      <td>-25.000000</td>\n",
       "      <td>-5.747126</td>\n",
       "      <td>0.0</td>\n",
       "      <td>100.000000</td>\n",
       "      <td>-41.666667</td>\n",
       "      <td>0.597780</td>\n",
       "    </tr>\n",
       "    <tr>\n",
       "      <th>4</th>\n",
       "      <td>06037101222</td>\n",
       "      <td>Census Tract 1012.22</td>\n",
       "      <td>Census Tract 1012.22, Los Angeles County, Cali...</td>\n",
       "      <td>0</td>\n",
       "      <td>06</td>\n",
       "      <td>037</td>\n",
       "      <td>NaN</td>\n",
       "      <td>101222</td>\n",
       "      <td>NaN</td>\n",
       "      <td>NaN</td>\n",
       "      <td>2808</td>\n",
       "      <td>1768</td>\n",
       "      <td>1455</td>\n",
       "      <td>76</td>\n",
       "      <td>3</td>\n",
       "      <td>148</td>\n",
       "      <td>0</td>\n",
       "      <td>8</td>\n",
       "      <td>78</td>\n",
       "      <td>1040</td>\n",
       "      <td>2556.0</td>\n",
       "      <td>1508.0</td>\n",
       "      <td>1145.0</td>\n",
       "      <td>94.0</td>\n",
       "      <td>2.0</td>\n",
       "      <td>187.0</td>\n",
       "      <td>0.0</td>\n",
       "      <td>0.0</td>\n",
       "      <td>80.0</td>\n",
       "      <td>1048.0</td>\n",
       "      <td>252.0</td>\n",
       "      <td>260.0</td>\n",
       "      <td>310.0</td>\n",
       "      <td>-18.0</td>\n",
       "      <td>1.0</td>\n",
       "      <td>-39.0</td>\n",
       "      <td>0.0</td>\n",
       "      <td>8.0</td>\n",
       "      <td>-2.0</td>\n",
       "      <td>-8.0</td>\n",
       "      <td>9.859155</td>\n",
       "      <td>17.241379</td>\n",
       "      <td>27.074236</td>\n",
       "      <td>-19.148936</td>\n",
       "      <td>50.000000</td>\n",
       "      <td>-20.855615</td>\n",
       "      <td>NaN</td>\n",
       "      <td>NaN</td>\n",
       "      <td>-2.500000</td>\n",
       "      <td>-0.763359</td>\n",
       "    </tr>\n",
       "  </tbody>\n",
       "</table>\n",
       "</div>"
      ],
      "text/plain": [
       "      Geo_FIPS              Geo_NAME  \\\n",
       "0  06037101110  Census Tract 1011.10   \n",
       "1  06037101122  Census Tract 1011.22   \n",
       "2  06037101220  Census Tract 1012.20   \n",
       "3  06037101221  Census Tract 1012.21   \n",
       "4  06037101222  Census Tract 1012.22   \n",
       "\n",
       "                                           Geo_QNAME  Geo_NATION Geo_STATE  \\\n",
       "0  Census Tract 1011.10, Los Angeles County, Cali...           0        06   \n",
       "1  Census Tract 1011.22, Los Angeles County, Cali...           0        06   \n",
       "2  Census Tract 1012.20, Los Angeles County, Cali...           0        06   \n",
       "3  Census Tract 1012.21, Los Angeles County, Cali...           0        06   \n",
       "4  Census Tract 1012.22, Los Angeles County, Cali...           0        06   \n",
       "\n",
       "  Geo_COUNTY  Geo_CS  Geo_CT  Geo_PLACE  Geo_CSA  SE_T004_019  SE_T004_001  \\\n",
       "0        037     NaN  101110        NaN      NaN         4926         3545   \n",
       "1        037     NaN  101122        NaN      NaN         3728         3186   \n",
       "2        037     NaN  101220        NaN      NaN         3344         2263   \n",
       "3        037     NaN  101221        NaN      NaN         3444         2266   \n",
       "4        037     NaN  101222        NaN      NaN         2808         1768   \n",
       "\n",
       "   SE_T004_003  SE_T004_005  SE_T004_007  SE_T004_009  SE_T004_011  \\\n",
       "0         2840           65            7          434            8   \n",
       "1         2614           31            7          392            0   \n",
       "2         1751           34            4          352            0   \n",
       "3         1840           73            3          246            3   \n",
       "4         1455           76            3          148            0   \n",
       "\n",
       "   SE_T004_013  SE_T004_015  SE_T004_017  SE_T005_019  SE_T005_001  \\\n",
       "0           14          177         1381       4731.0       3407.0   \n",
       "1           23          119          542       3664.0       3089.0   \n",
       "2           21          101         1081       3363.0       2091.0   \n",
       "3           10           91         1178       3434.0       2263.0   \n",
       "4            8           78         1040       2556.0       1508.0   \n",
       "\n",
       "   SE_T005_003  SE_T005_005  SE_T005_007  SE_T005_009  SE_T005_011  \\\n",
       "0       2656.0         74.0         14.0        486.0          4.0   \n",
       "1       2437.0         26.0          4.0        495.0          1.0   \n",
       "2       1662.0         36.0         11.0        272.0          2.0   \n",
       "3       1745.0         89.0          4.0        261.0          3.0   \n",
       "4       1145.0         94.0          2.0        187.0          0.0   \n",
       "\n",
       "   SE_T005_013  SE_T005_015  SE_T005_017  SE_T006_019  SE_T006_001  \\\n",
       "0         30.0        143.0       1324.0        195.0        138.0   \n",
       "1         10.0        116.0        575.0         64.0         97.0   \n",
       "2          3.0        105.0       1272.0        -19.0        172.0   \n",
       "3          5.0        156.0       1171.0         10.0          3.0   \n",
       "4          0.0         80.0       1048.0        252.0        260.0   \n",
       "\n",
       "   SE_T006_003  SE_T006_005  SE_T006_007  SE_T006_009  SE_T006_011  \\\n",
       "0        184.0         -9.0         -7.0        -52.0          4.0   \n",
       "1        177.0          5.0          3.0       -103.0         -1.0   \n",
       "2         89.0         -2.0         -7.0         80.0         -2.0   \n",
       "3         95.0        -16.0         -1.0        -15.0          0.0   \n",
       "4        310.0        -18.0          1.0        -39.0          0.0   \n",
       "\n",
       "   SE_T006_013  SE_T006_015  SE_T006_017  SE_T017_020  SE_T017_002  \\\n",
       "0        -16.0         34.0         57.0     4.121750     4.050484   \n",
       "1         13.0          3.0        -33.0     1.746725     3.140175   \n",
       "2         18.0         -4.0       -191.0    -0.564972     8.225729   \n",
       "3          5.0        -65.0          7.0     0.291206     0.132567   \n",
       "4          8.0         -2.0         -8.0     9.859155    17.241379   \n",
       "\n",
       "   SE_T017_004  SE_T017_006  SE_T017_008  SE_T017_010  SE_T017_012  \\\n",
       "0     6.927711   -12.162162   -50.000000   -10.699588        100.0   \n",
       "1     7.263028    19.230769    75.000000   -20.808081       -100.0   \n",
       "2     5.354994    -5.555556   -63.636364    29.411765       -100.0   \n",
       "3     5.444126   -17.977528   -25.000000    -5.747126          0.0   \n",
       "4    27.074236   -19.148936    50.000000   -20.855615          NaN   \n",
       "\n",
       "   SE_T017_014  SE_T017_016  SE_T017_018  \n",
       "0   -53.333333    23.776224     4.305136  \n",
       "1   130.000000     2.586207    -5.739130  \n",
       "2   600.000000    -3.809524   -15.015723  \n",
       "3   100.000000   -41.666667     0.597780  \n",
       "4          NaN    -2.500000    -0.763359  "
      ]
     },
     "execution_count": 12,
     "metadata": {},
     "output_type": "execute_result"
    }
   ],
   "source": [
    "# now look at the data again\n",
    "df.head()"
   ]
  },
  {
   "cell_type": "markdown",
   "metadata": {
    "slideshow": {
     "slide_type": "slide"
    }
   },
   "source": [
    "Confirm that your new dataframe has the correct datatypes."
   ]
  },
  {
   "cell_type": "code",
   "execution_count": 13,
   "metadata": {
    "scrolled": true
   },
   "outputs": [
    {
     "name": "stdout",
     "output_type": "stream",
     "text": [
      "<class 'pandas.core.frame.DataFrame'>\n",
      "RangeIndex: 2498 entries, 0 to 2497\n",
      "Data columns (total 50 columns):\n",
      " #   Column       Non-Null Count  Dtype  \n",
      "---  ------       --------------  -----  \n",
      " 0   Geo_FIPS     2498 non-null   object \n",
      " 1   Geo_NAME     2498 non-null   object \n",
      " 2   Geo_QNAME    2498 non-null   object \n",
      " 3   Geo_NATION   2498 non-null   int64  \n",
      " 4   Geo_STATE    2498 non-null   object \n",
      " 5   Geo_COUNTY   2498 non-null   object \n",
      " 6   Geo_CS       0 non-null      float64\n",
      " 7   Geo_CT       2498 non-null   int64  \n",
      " 8   Geo_PLACE    0 non-null      float64\n",
      " 9   Geo_CSA      0 non-null      float64\n",
      " 10  SE_T004_019  2498 non-null   int64  \n",
      " 11  SE_T004_001  2498 non-null   int64  \n",
      " 12  SE_T004_003  2498 non-null   int64  \n",
      " 13  SE_T004_005  2498 non-null   int64  \n",
      " 14  SE_T004_007  2498 non-null   int64  \n",
      " 15  SE_T004_009  2498 non-null   int64  \n",
      " 16  SE_T004_011  2498 non-null   int64  \n",
      " 17  SE_T004_013  2498 non-null   int64  \n",
      " 18  SE_T004_015  2498 non-null   int64  \n",
      " 19  SE_T004_017  2498 non-null   int64  \n",
      " 20  SE_T005_019  2498 non-null   float64\n",
      " 21  SE_T005_001  2495 non-null   float64\n",
      " 22  SE_T005_003  2495 non-null   float64\n",
      " 23  SE_T005_005  2495 non-null   float64\n",
      " 24  SE_T005_007  2495 non-null   float64\n",
      " 25  SE_T005_009  2495 non-null   float64\n",
      " 26  SE_T005_011  2495 non-null   float64\n",
      " 27  SE_T005_013  2495 non-null   float64\n",
      " 28  SE_T005_015  2495 non-null   float64\n",
      " 29  SE_T005_017  2495 non-null   float64\n",
      " 30  SE_T006_019  2495 non-null   float64\n",
      " 31  SE_T006_001  2495 non-null   float64\n",
      " 32  SE_T006_003  2495 non-null   float64\n",
      " 33  SE_T006_005  2495 non-null   float64\n",
      " 34  SE_T006_007  2495 non-null   float64\n",
      " 35  SE_T006_009  2495 non-null   float64\n",
      " 36  SE_T006_011  2495 non-null   float64\n",
      " 37  SE_T006_013  2495 non-null   float64\n",
      " 38  SE_T006_015  2495 non-null   float64\n",
      " 39  SE_T006_017  2495 non-null   float64\n",
      " 40  SE_T017_020  2487 non-null   float64\n",
      " 41  SE_T017_002  2487 non-null   float64\n",
      " 42  SE_T017_004  2486 non-null   float64\n",
      " 43  SE_T017_006  2479 non-null   float64\n",
      " 44  SE_T017_008  2349 non-null   float64\n",
      " 45  SE_T017_010  2472 non-null   float64\n",
      " 46  SE_T017_012  1997 non-null   float64\n",
      " 47  SE_T017_014  2396 non-null   float64\n",
      " 48  SE_T017_016  2472 non-null   float64\n",
      " 49  SE_T017_018  2484 non-null   float64\n",
      "dtypes: float64(33), int64(12), object(5)\n",
      "memory usage: 975.9+ KB\n"
     ]
    }
   ],
   "source": [
    "# verbose shows all the columns, show_counts shows the number of non-null values\n",
    "df.info(verbose=True, show_counts=True)"
   ]
  },
  {
   "cell_type": "markdown",
   "metadata": {
    "slideshow": {
     "slide_type": "slide"
    }
   },
   "source": [
    "<div class=\"alert alert-danger\">\n",
    "    \n",
    "The [leading zero dilemma](https://en.wikipedia.org/wiki/Leading_zero) is a known enigma in GIS and data integration. Even ESRI has yet to find a clean solution to this problem, forcing users into resorting to [weird hacks](https://support.esri.com/en/technical-article/000013035) to circumvent this problem. Python and pandas actually gives us a \"clean-ish\" solution that makes logical sense... doesn't it? If/when you run into issues with leading zeros and merging table data to shapefiles or geoJSONs in python, you can use the ```zfill()``` function. [See this solution that I use all the time](https://stackoverflow.com/questions/23836277/add-leading-zeros-to-strings-in-pandas-dataframe)\n",
    "    \n",
    "</div>"
   ]
  },
  {
   "cell_type": "markdown",
   "metadata": {
    "slideshow": {
     "slide_type": "slide"
    }
   },
   "source": [
    "## Drop/Delete null columns\n",
    "By default, social explorer creates many columns. Many of them have null values from top to bottom. What are the null columns? You can find out using the handy `isna()` command. Notice the chain of commands.\n",
    "\n",
    "[isna().all()](https://pandas.pydata.org/pandas-docs/stable/reference/api/pandas.DataFrame.isna.html)"
   ]
  },
  {
   "cell_type": "markdown",
   "metadata": {
    "slideshow": {
     "slide_type": "slide"
    }
   },
   "source": [
    "The `.all()` indicates that you want to find the columns that have ALL empty values. The other option would be `.any()` which would list all columns that have *at least one* empty value. "
   ]
  },
  {
   "cell_type": "code",
   "execution_count": 14,
   "metadata": {
    "scrolled": true
   },
   "outputs": [
    {
     "data": {
      "text/plain": [
       "['Geo_CS', 'Geo_PLACE', 'Geo_CSA']"
      ]
     },
     "execution_count": 14,
     "metadata": {},
     "output_type": "execute_result"
    }
   ],
   "source": [
    "df.columns[df.isna().all()].tolist()"
   ]
  },
  {
   "cell_type": "markdown",
   "metadata": {
    "slideshow": {
     "slide_type": "slide"
    }
   },
   "source": [
    "Let's eliminate these. There is a handy pandas command to do so `.dropna()`. The arguments are `axis=1` which indicates you want to eliminate *columns* (`axis=0` would eliminate rows), and `how=\"all\"` to remove columns where all values are empty.\n",
    "\n",
    "* [dropna](https://pandas.pydata.org/pandas-docs/stable/reference/api/pandas.DataFrame.dropna.html)"
   ]
  },
  {
   "cell_type": "code",
   "execution_count": 15,
   "metadata": {
    "slideshow": {
     "slide_type": "fragment"
    }
   },
   "outputs": [],
   "source": [
    "# axis = 0 drops rows axis = 1 drops columns with null\n",
    "df = df.dropna(axis=1,how=\"all\")"
   ]
  },
  {
   "cell_type": "code",
   "execution_count": 16,
   "metadata": {
    "scrolled": true,
    "slideshow": {
     "slide_type": "slide"
    }
   },
   "outputs": [
    {
     "name": "stdout",
     "output_type": "stream",
     "text": [
      "<class 'pandas.core.frame.DataFrame'>\n",
      "RangeIndex: 2498 entries, 0 to 2497\n",
      "Data columns (total 47 columns):\n",
      " #   Column       Non-Null Count  Dtype  \n",
      "---  ------       --------------  -----  \n",
      " 0   Geo_FIPS     2498 non-null   object \n",
      " 1   Geo_NAME     2498 non-null   object \n",
      " 2   Geo_QNAME    2498 non-null   object \n",
      " 3   Geo_NATION   2498 non-null   int64  \n",
      " 4   Geo_STATE    2498 non-null   object \n",
      " 5   Geo_COUNTY   2498 non-null   object \n",
      " 6   Geo_CT       2498 non-null   int64  \n",
      " 7   SE_T004_019  2498 non-null   int64  \n",
      " 8   SE_T004_001  2498 non-null   int64  \n",
      " 9   SE_T004_003  2498 non-null   int64  \n",
      " 10  SE_T004_005  2498 non-null   int64  \n",
      " 11  SE_T004_007  2498 non-null   int64  \n",
      " 12  SE_T004_009  2498 non-null   int64  \n",
      " 13  SE_T004_011  2498 non-null   int64  \n",
      " 14  SE_T004_013  2498 non-null   int64  \n",
      " 15  SE_T004_015  2498 non-null   int64  \n",
      " 16  SE_T004_017  2498 non-null   int64  \n",
      " 17  SE_T005_019  2498 non-null   float64\n",
      " 18  SE_T005_001  2495 non-null   float64\n",
      " 19  SE_T005_003  2495 non-null   float64\n",
      " 20  SE_T005_005  2495 non-null   float64\n",
      " 21  SE_T005_007  2495 non-null   float64\n",
      " 22  SE_T005_009  2495 non-null   float64\n",
      " 23  SE_T005_011  2495 non-null   float64\n",
      " 24  SE_T005_013  2495 non-null   float64\n",
      " 25  SE_T005_015  2495 non-null   float64\n",
      " 26  SE_T005_017  2495 non-null   float64\n",
      " 27  SE_T006_019  2495 non-null   float64\n",
      " 28  SE_T006_001  2495 non-null   float64\n",
      " 29  SE_T006_003  2495 non-null   float64\n",
      " 30  SE_T006_005  2495 non-null   float64\n",
      " 31  SE_T006_007  2495 non-null   float64\n",
      " 32  SE_T006_009  2495 non-null   float64\n",
      " 33  SE_T006_011  2495 non-null   float64\n",
      " 34  SE_T006_013  2495 non-null   float64\n",
      " 35  SE_T006_015  2495 non-null   float64\n",
      " 36  SE_T006_017  2495 non-null   float64\n",
      " 37  SE_T017_020  2487 non-null   float64\n",
      " 38  SE_T017_002  2487 non-null   float64\n",
      " 39  SE_T017_004  2486 non-null   float64\n",
      " 40  SE_T017_006  2479 non-null   float64\n",
      " 41  SE_T017_008  2349 non-null   float64\n",
      " 42  SE_T017_010  2472 non-null   float64\n",
      " 43  SE_T017_012  1997 non-null   float64\n",
      " 44  SE_T017_014  2396 non-null   float64\n",
      " 45  SE_T017_016  2472 non-null   float64\n",
      " 46  SE_T017_018  2484 non-null   float64\n",
      "dtypes: float64(30), int64(12), object(5)\n",
      "memory usage: 917.4+ KB\n"
     ]
    }
   ],
   "source": [
    "df.info()"
   ]
  },
  {
   "cell_type": "code",
   "execution_count": 17,
   "metadata": {
    "slideshow": {
     "slide_type": "slide"
    }
   },
   "outputs": [
    {
     "data": {
      "text/html": [
       "<div>\n",
       "<style scoped>\n",
       "    .dataframe tbody tr th:only-of-type {\n",
       "        vertical-align: middle;\n",
       "    }\n",
       "\n",
       "    .dataframe tbody tr th {\n",
       "        vertical-align: top;\n",
       "    }\n",
       "\n",
       "    .dataframe thead th {\n",
       "        text-align: right;\n",
       "    }\n",
       "</style>\n",
       "<table border=\"1\" class=\"dataframe\">\n",
       "  <thead>\n",
       "    <tr style=\"text-align: right;\">\n",
       "      <th></th>\n",
       "      <th>Geo_FIPS</th>\n",
       "      <th>Geo_NAME</th>\n",
       "      <th>Geo_QNAME</th>\n",
       "      <th>Geo_NATION</th>\n",
       "      <th>Geo_STATE</th>\n",
       "      <th>Geo_COUNTY</th>\n",
       "      <th>Geo_CT</th>\n",
       "      <th>SE_T004_019</th>\n",
       "      <th>SE_T004_001</th>\n",
       "      <th>SE_T004_003</th>\n",
       "      <th>SE_T004_005</th>\n",
       "      <th>SE_T004_007</th>\n",
       "      <th>SE_T004_009</th>\n",
       "      <th>SE_T004_011</th>\n",
       "      <th>SE_T004_013</th>\n",
       "      <th>SE_T004_015</th>\n",
       "      <th>SE_T004_017</th>\n",
       "      <th>SE_T005_019</th>\n",
       "      <th>SE_T005_001</th>\n",
       "      <th>SE_T005_003</th>\n",
       "      <th>SE_T005_005</th>\n",
       "      <th>SE_T005_007</th>\n",
       "      <th>SE_T005_009</th>\n",
       "      <th>SE_T005_011</th>\n",
       "      <th>SE_T005_013</th>\n",
       "      <th>SE_T005_015</th>\n",
       "      <th>SE_T005_017</th>\n",
       "      <th>SE_T006_019</th>\n",
       "      <th>SE_T006_001</th>\n",
       "      <th>SE_T006_003</th>\n",
       "      <th>SE_T006_005</th>\n",
       "      <th>SE_T006_007</th>\n",
       "      <th>SE_T006_009</th>\n",
       "      <th>SE_T006_011</th>\n",
       "      <th>SE_T006_013</th>\n",
       "      <th>SE_T006_015</th>\n",
       "      <th>SE_T006_017</th>\n",
       "      <th>SE_T017_020</th>\n",
       "      <th>SE_T017_002</th>\n",
       "      <th>SE_T017_004</th>\n",
       "      <th>SE_T017_006</th>\n",
       "      <th>SE_T017_008</th>\n",
       "      <th>SE_T017_010</th>\n",
       "      <th>SE_T017_012</th>\n",
       "      <th>SE_T017_014</th>\n",
       "      <th>SE_T017_016</th>\n",
       "      <th>SE_T017_018</th>\n",
       "    </tr>\n",
       "  </thead>\n",
       "  <tbody>\n",
       "    <tr>\n",
       "      <th>0</th>\n",
       "      <td>06037101110</td>\n",
       "      <td>Census Tract 1011.10</td>\n",
       "      <td>Census Tract 1011.10, Los Angeles County, Cali...</td>\n",
       "      <td>0</td>\n",
       "      <td>06</td>\n",
       "      <td>037</td>\n",
       "      <td>101110</td>\n",
       "      <td>4926</td>\n",
       "      <td>3545</td>\n",
       "      <td>2840</td>\n",
       "      <td>65</td>\n",
       "      <td>7</td>\n",
       "      <td>434</td>\n",
       "      <td>8</td>\n",
       "      <td>14</td>\n",
       "      <td>177</td>\n",
       "      <td>1381</td>\n",
       "      <td>4731.0</td>\n",
       "      <td>3407.0</td>\n",
       "      <td>2656.0</td>\n",
       "      <td>74.0</td>\n",
       "      <td>14.0</td>\n",
       "      <td>486.0</td>\n",
       "      <td>4.0</td>\n",
       "      <td>30.0</td>\n",
       "      <td>143.0</td>\n",
       "      <td>1324.0</td>\n",
       "      <td>195.0</td>\n",
       "      <td>138.0</td>\n",
       "      <td>184.0</td>\n",
       "      <td>-9.0</td>\n",
       "      <td>-7.0</td>\n",
       "      <td>-52.0</td>\n",
       "      <td>4.0</td>\n",
       "      <td>-16.0</td>\n",
       "      <td>34.0</td>\n",
       "      <td>57.0</td>\n",
       "      <td>4.121750</td>\n",
       "      <td>4.050484</td>\n",
       "      <td>6.927711</td>\n",
       "      <td>-12.162162</td>\n",
       "      <td>-50.000000</td>\n",
       "      <td>-10.699588</td>\n",
       "      <td>100.0</td>\n",
       "      <td>-53.333333</td>\n",
       "      <td>23.776224</td>\n",
       "      <td>4.305136</td>\n",
       "    </tr>\n",
       "    <tr>\n",
       "      <th>1</th>\n",
       "      <td>06037101122</td>\n",
       "      <td>Census Tract 1011.22</td>\n",
       "      <td>Census Tract 1011.22, Los Angeles County, Cali...</td>\n",
       "      <td>0</td>\n",
       "      <td>06</td>\n",
       "      <td>037</td>\n",
       "      <td>101122</td>\n",
       "      <td>3728</td>\n",
       "      <td>3186</td>\n",
       "      <td>2614</td>\n",
       "      <td>31</td>\n",
       "      <td>7</td>\n",
       "      <td>392</td>\n",
       "      <td>0</td>\n",
       "      <td>23</td>\n",
       "      <td>119</td>\n",
       "      <td>542</td>\n",
       "      <td>3664.0</td>\n",
       "      <td>3089.0</td>\n",
       "      <td>2437.0</td>\n",
       "      <td>26.0</td>\n",
       "      <td>4.0</td>\n",
       "      <td>495.0</td>\n",
       "      <td>1.0</td>\n",
       "      <td>10.0</td>\n",
       "      <td>116.0</td>\n",
       "      <td>575.0</td>\n",
       "      <td>64.0</td>\n",
       "      <td>97.0</td>\n",
       "      <td>177.0</td>\n",
       "      <td>5.0</td>\n",
       "      <td>3.0</td>\n",
       "      <td>-103.0</td>\n",
       "      <td>-1.0</td>\n",
       "      <td>13.0</td>\n",
       "      <td>3.0</td>\n",
       "      <td>-33.0</td>\n",
       "      <td>1.746725</td>\n",
       "      <td>3.140175</td>\n",
       "      <td>7.263028</td>\n",
       "      <td>19.230769</td>\n",
       "      <td>75.000000</td>\n",
       "      <td>-20.808081</td>\n",
       "      <td>-100.0</td>\n",
       "      <td>130.000000</td>\n",
       "      <td>2.586207</td>\n",
       "      <td>-5.739130</td>\n",
       "    </tr>\n",
       "    <tr>\n",
       "      <th>2</th>\n",
       "      <td>06037101220</td>\n",
       "      <td>Census Tract 1012.20</td>\n",
       "      <td>Census Tract 1012.20, Los Angeles County, Cali...</td>\n",
       "      <td>0</td>\n",
       "      <td>06</td>\n",
       "      <td>037</td>\n",
       "      <td>101220</td>\n",
       "      <td>3344</td>\n",
       "      <td>2263</td>\n",
       "      <td>1751</td>\n",
       "      <td>34</td>\n",
       "      <td>4</td>\n",
       "      <td>352</td>\n",
       "      <td>0</td>\n",
       "      <td>21</td>\n",
       "      <td>101</td>\n",
       "      <td>1081</td>\n",
       "      <td>3363.0</td>\n",
       "      <td>2091.0</td>\n",
       "      <td>1662.0</td>\n",
       "      <td>36.0</td>\n",
       "      <td>11.0</td>\n",
       "      <td>272.0</td>\n",
       "      <td>2.0</td>\n",
       "      <td>3.0</td>\n",
       "      <td>105.0</td>\n",
       "      <td>1272.0</td>\n",
       "      <td>-19.0</td>\n",
       "      <td>172.0</td>\n",
       "      <td>89.0</td>\n",
       "      <td>-2.0</td>\n",
       "      <td>-7.0</td>\n",
       "      <td>80.0</td>\n",
       "      <td>-2.0</td>\n",
       "      <td>18.0</td>\n",
       "      <td>-4.0</td>\n",
       "      <td>-191.0</td>\n",
       "      <td>-0.564972</td>\n",
       "      <td>8.225729</td>\n",
       "      <td>5.354994</td>\n",
       "      <td>-5.555556</td>\n",
       "      <td>-63.636364</td>\n",
       "      <td>29.411765</td>\n",
       "      <td>-100.0</td>\n",
       "      <td>600.000000</td>\n",
       "      <td>-3.809524</td>\n",
       "      <td>-15.015723</td>\n",
       "    </tr>\n",
       "    <tr>\n",
       "      <th>3</th>\n",
       "      <td>06037101221</td>\n",
       "      <td>Census Tract 1012.21</td>\n",
       "      <td>Census Tract 1012.21, Los Angeles County, Cali...</td>\n",
       "      <td>0</td>\n",
       "      <td>06</td>\n",
       "      <td>037</td>\n",
       "      <td>101221</td>\n",
       "      <td>3444</td>\n",
       "      <td>2266</td>\n",
       "      <td>1840</td>\n",
       "      <td>73</td>\n",
       "      <td>3</td>\n",
       "      <td>246</td>\n",
       "      <td>3</td>\n",
       "      <td>10</td>\n",
       "      <td>91</td>\n",
       "      <td>1178</td>\n",
       "      <td>3434.0</td>\n",
       "      <td>2263.0</td>\n",
       "      <td>1745.0</td>\n",
       "      <td>89.0</td>\n",
       "      <td>4.0</td>\n",
       "      <td>261.0</td>\n",
       "      <td>3.0</td>\n",
       "      <td>5.0</td>\n",
       "      <td>156.0</td>\n",
       "      <td>1171.0</td>\n",
       "      <td>10.0</td>\n",
       "      <td>3.0</td>\n",
       "      <td>95.0</td>\n",
       "      <td>-16.0</td>\n",
       "      <td>-1.0</td>\n",
       "      <td>-15.0</td>\n",
       "      <td>0.0</td>\n",
       "      <td>5.0</td>\n",
       "      <td>-65.0</td>\n",
       "      <td>7.0</td>\n",
       "      <td>0.291206</td>\n",
       "      <td>0.132567</td>\n",
       "      <td>5.444126</td>\n",
       "      <td>-17.977528</td>\n",
       "      <td>-25.000000</td>\n",
       "      <td>-5.747126</td>\n",
       "      <td>0.0</td>\n",
       "      <td>100.000000</td>\n",
       "      <td>-41.666667</td>\n",
       "      <td>0.597780</td>\n",
       "    </tr>\n",
       "    <tr>\n",
       "      <th>4</th>\n",
       "      <td>06037101222</td>\n",
       "      <td>Census Tract 1012.22</td>\n",
       "      <td>Census Tract 1012.22, Los Angeles County, Cali...</td>\n",
       "      <td>0</td>\n",
       "      <td>06</td>\n",
       "      <td>037</td>\n",
       "      <td>101222</td>\n",
       "      <td>2808</td>\n",
       "      <td>1768</td>\n",
       "      <td>1455</td>\n",
       "      <td>76</td>\n",
       "      <td>3</td>\n",
       "      <td>148</td>\n",
       "      <td>0</td>\n",
       "      <td>8</td>\n",
       "      <td>78</td>\n",
       "      <td>1040</td>\n",
       "      <td>2556.0</td>\n",
       "      <td>1508.0</td>\n",
       "      <td>1145.0</td>\n",
       "      <td>94.0</td>\n",
       "      <td>2.0</td>\n",
       "      <td>187.0</td>\n",
       "      <td>0.0</td>\n",
       "      <td>0.0</td>\n",
       "      <td>80.0</td>\n",
       "      <td>1048.0</td>\n",
       "      <td>252.0</td>\n",
       "      <td>260.0</td>\n",
       "      <td>310.0</td>\n",
       "      <td>-18.0</td>\n",
       "      <td>1.0</td>\n",
       "      <td>-39.0</td>\n",
       "      <td>0.0</td>\n",
       "      <td>8.0</td>\n",
       "      <td>-2.0</td>\n",
       "      <td>-8.0</td>\n",
       "      <td>9.859155</td>\n",
       "      <td>17.241379</td>\n",
       "      <td>27.074236</td>\n",
       "      <td>-19.148936</td>\n",
       "      <td>50.000000</td>\n",
       "      <td>-20.855615</td>\n",
       "      <td>NaN</td>\n",
       "      <td>NaN</td>\n",
       "      <td>-2.500000</td>\n",
       "      <td>-0.763359</td>\n",
       "    </tr>\n",
       "  </tbody>\n",
       "</table>\n",
       "</div>"
      ],
      "text/plain": [
       "      Geo_FIPS              Geo_NAME  \\\n",
       "0  06037101110  Census Tract 1011.10   \n",
       "1  06037101122  Census Tract 1011.22   \n",
       "2  06037101220  Census Tract 1012.20   \n",
       "3  06037101221  Census Tract 1012.21   \n",
       "4  06037101222  Census Tract 1012.22   \n",
       "\n",
       "                                           Geo_QNAME  Geo_NATION Geo_STATE  \\\n",
       "0  Census Tract 1011.10, Los Angeles County, Cali...           0        06   \n",
       "1  Census Tract 1011.22, Los Angeles County, Cali...           0        06   \n",
       "2  Census Tract 1012.20, Los Angeles County, Cali...           0        06   \n",
       "3  Census Tract 1012.21, Los Angeles County, Cali...           0        06   \n",
       "4  Census Tract 1012.22, Los Angeles County, Cali...           0        06   \n",
       "\n",
       "  Geo_COUNTY  Geo_CT  SE_T004_019  SE_T004_001  SE_T004_003  SE_T004_005  \\\n",
       "0        037  101110         4926         3545         2840           65   \n",
       "1        037  101122         3728         3186         2614           31   \n",
       "2        037  101220         3344         2263         1751           34   \n",
       "3        037  101221         3444         2266         1840           73   \n",
       "4        037  101222         2808         1768         1455           76   \n",
       "\n",
       "   SE_T004_007  SE_T004_009  SE_T004_011  SE_T004_013  SE_T004_015  \\\n",
       "0            7          434            8           14          177   \n",
       "1            7          392            0           23          119   \n",
       "2            4          352            0           21          101   \n",
       "3            3          246            3           10           91   \n",
       "4            3          148            0            8           78   \n",
       "\n",
       "   SE_T004_017  SE_T005_019  SE_T005_001  SE_T005_003  SE_T005_005  \\\n",
       "0         1381       4731.0       3407.0       2656.0         74.0   \n",
       "1          542       3664.0       3089.0       2437.0         26.0   \n",
       "2         1081       3363.0       2091.0       1662.0         36.0   \n",
       "3         1178       3434.0       2263.0       1745.0         89.0   \n",
       "4         1040       2556.0       1508.0       1145.0         94.0   \n",
       "\n",
       "   SE_T005_007  SE_T005_009  SE_T005_011  SE_T005_013  SE_T005_015  \\\n",
       "0         14.0        486.0          4.0         30.0        143.0   \n",
       "1          4.0        495.0          1.0         10.0        116.0   \n",
       "2         11.0        272.0          2.0          3.0        105.0   \n",
       "3          4.0        261.0          3.0          5.0        156.0   \n",
       "4          2.0        187.0          0.0          0.0         80.0   \n",
       "\n",
       "   SE_T005_017  SE_T006_019  SE_T006_001  SE_T006_003  SE_T006_005  \\\n",
       "0       1324.0        195.0        138.0        184.0         -9.0   \n",
       "1        575.0         64.0         97.0        177.0          5.0   \n",
       "2       1272.0        -19.0        172.0         89.0         -2.0   \n",
       "3       1171.0         10.0          3.0         95.0        -16.0   \n",
       "4       1048.0        252.0        260.0        310.0        -18.0   \n",
       "\n",
       "   SE_T006_007  SE_T006_009  SE_T006_011  SE_T006_013  SE_T006_015  \\\n",
       "0         -7.0        -52.0          4.0        -16.0         34.0   \n",
       "1          3.0       -103.0         -1.0         13.0          3.0   \n",
       "2         -7.0         80.0         -2.0         18.0         -4.0   \n",
       "3         -1.0        -15.0          0.0          5.0        -65.0   \n",
       "4          1.0        -39.0          0.0          8.0         -2.0   \n",
       "\n",
       "   SE_T006_017  SE_T017_020  SE_T017_002  SE_T017_004  SE_T017_006  \\\n",
       "0         57.0     4.121750     4.050484     6.927711   -12.162162   \n",
       "1        -33.0     1.746725     3.140175     7.263028    19.230769   \n",
       "2       -191.0    -0.564972     8.225729     5.354994    -5.555556   \n",
       "3          7.0     0.291206     0.132567     5.444126   -17.977528   \n",
       "4         -8.0     9.859155    17.241379    27.074236   -19.148936   \n",
       "\n",
       "   SE_T017_008  SE_T017_010  SE_T017_012  SE_T017_014  SE_T017_016  \\\n",
       "0   -50.000000   -10.699588        100.0   -53.333333    23.776224   \n",
       "1    75.000000   -20.808081       -100.0   130.000000     2.586207   \n",
       "2   -63.636364    29.411765       -100.0   600.000000    -3.809524   \n",
       "3   -25.000000    -5.747126          0.0   100.000000   -41.666667   \n",
       "4    50.000000   -20.855615          NaN          NaN    -2.500000   \n",
       "\n",
       "   SE_T017_018  \n",
       "0     4.305136  \n",
       "1    -5.739130  \n",
       "2   -15.015723  \n",
       "3     0.597780  \n",
       "4    -0.763359  "
      ]
     },
     "execution_count": 17,
     "metadata": {},
     "output_type": "execute_result"
    }
   ],
   "source": [
    "# reinspect the data\n",
    "df.head()"
   ]
  },
  {
   "cell_type": "markdown",
   "metadata": {},
   "source": [
    "## The US Census Bureau's data download website is a 'better' open data source for downloading CSVs and metadata\n",
    "Here is a [PDF tutorial](https://www2.census.gov/data/api-documentation/how-to-download-a-table-as-a-csv-file.pdf) on how to filter and download CSVs through the [US Census Bureau open data portal](https://data.census.gov). \n",
    "* Go to data.census.gov\n",
    "* Use Advanced Search to filter by Geography --> Census Tracts or Blocks --> Filter by State --> Filter by County --> Select all Census tracts in County <br />\n",
    "<img src=\"images/censusData1.png\" width=600>\n",
    "* Filter by Geography --> Census Tracts or Blocks --> State --> County --> All Census Tracts within [Name] County, [State]<br />\n",
    "<img src=\"images/censusData2.png\" height=50%>\n",
    "* Select your survey of choice depending on recency, either the American Community Survey or US Census \n",
    "* Follow [this tutorial to download](https://www.census.gov/library/video/2023/adrm/downloading-exporting-and-sharing-2020-census-demographic-and-housing-characteristics-data.html) CSVs with a data CSV and a metadata CSV. The metadata CSV will give you descriptions of codes like the ones below.\n",
    "* Click DOWNLOAD TABLE and the year that you want to download <br />\n",
    "<img src=\"images/censusData3.png\" width=600>\n",
    "* Unzip the folder, you will see a -data and -metadata CSV <br />\n",
    "<img src=\"images/censusData4.png\" width=600>\n",
    "* Open both and you will see that certain codes correspond to descriptions <br />\n",
    "<img src=\"images/censusData5.png\" width=600>\n",
    "* Right click the second column and click insert <br />\n",
    "<img src=\"images/excel1.png\" width=600>\n",
    "* Select the Data tab at the top and click Text to Columns <br />\n",
    "<img src=\"images/excel2.png\" width=600>\n",
    "* Hit next to get to step 2 of 3. You will Delimit (split) the GEOID column based on the S in US in order to get FIPS for joining your census csv to tracts (either in shapefile or geojson format) with geopandas <br />\n",
    "<img src=\"images/excel3.png\" width=600>\n",
    "* In step 3 of 3, VERY IMPORTANT, click the column with the 11 digit FIPS code and select Text to format the FIPS column as text. If you do not do this, the leading zero will disappear when you import using ```pandas.read_file()``` <br />\n",
    "<img src=\"images/excel4.png\" width=600>\n",
    "* Delete the first column of data<br />\n",
    "<img src=\"images/excel5.png\" width=600>\n",
    "* Delete the second row of data or else you will have two headers. Save the CSV with a simple file name. For example, ```medIncome.csv``` <br />\n",
    "<img src=\"images/excel6.png\" width=600>\n",
    "### HINT: will need to delete the second row of data because it is the description of the abbreviated data codes. You can do this in Excel or with a ```df.drop(1, inplace=True)``` command in Jupyter. [pandas.drop documentation](https://pandas.pydata.org/docs/reference/api/pandas.DataFrame.drop.html) "
   ]
  },
  {
   "cell_type": "markdown",
   "metadata": {
    "slideshow": {
     "slide_type": "slide"
    }
   },
   "source": [
    "## The census data dictionary\n",
    "What are these columns? Column headers are defined in the data dictionary text file downloaded from social explorer. For your reference, it has been uploaded to the data directory in this folder.\n",
    "* [data dictionary](data/R13280610.txt)"
   ]
  },
  {
   "cell_type": "markdown",
   "metadata": {},
   "source": [
    "### Defining columns to keep\n",
    "\n",
    "According to the data dictionary, our dataframe includes many, many columns. While they may be useful for future analysis, let's only keep the columns that we will be using for this session, mainly the 2020 \"Race by Ethnicity\" columns:\n",
    "\n",
    "- GeoFIPS:       Geographic identifier\n",
    "- SE_T004_019:   Total Population\n",
    "- SE_T004_001:   Non Hispanic\n",
    "- SE_T004_003:   Non Hispanic White Alone\n",
    "- SE_T004_005:   Non Hispanic Black Alone\n",
    "- SE_T004_007:   Non Hispanic American Indian and Alaska Native Alone\n",
    "- SE_T004_009:   Non Hispanic Asian Alone\n",
    "- SE_T004_011:   Non Hispanic Native Hawaiian and Pacific Islander Alone\n",
    "- SE_T004_013:   Non Hispanic Other Alone\n",
    "- SE_T004_015:   Non Hispanic Multi Race\n",
    "- SE_T004_017:   Hispanic"
   ]
  },
  {
   "cell_type": "markdown",
   "metadata": {
    "slideshow": {
     "slide_type": "slide"
    }
   },
   "source": [
    "To do so, we create a subset of our dataframe and create a new dataframe. Let's call it ```df2```:"
   ]
  },
  {
   "cell_type": "code",
   "execution_count": 18,
   "metadata": {
    "slideshow": {
     "slide_type": "fragment"
    }
   },
   "outputs": [],
   "source": [
    "# define columns to keep; you will have to look at your source's metadata to determine which columns to keep and what they mean\n",
    "columns_to_keep = ['Geo_FIPS',\n",
    "                   'SE_T004_019',\n",
    "                   'SE_T004_001',\n",
    "                   'SE_T004_003',\n",
    "                   'SE_T004_005',\n",
    "                   'SE_T004_007',\n",
    "                   'SE_T004_009',\n",
    "                   'SE_T004_011',\n",
    "                   'SE_T004_013',\n",
    "                   'SE_T004_015',\n",
    "                   'SE_T004_017']\n",
    "# add it to a new dataframe\n",
    "df2 = df[columns_to_keep]"
   ]
  },
  {
   "cell_type": "markdown",
   "metadata": {
    "slideshow": {
     "slide_type": "slide"
    }
   },
   "source": [
    "## Renaming columns\n",
    "\n",
    "Let's rename the columns. First, create a list of column names as they are now."
   ]
  },
  {
   "cell_type": "code",
   "execution_count": 19,
   "metadata": {},
   "outputs": [
    {
     "data": {
      "text/plain": [
       "['Geo_FIPS',\n",
       " 'SE_T004_019',\n",
       " 'SE_T004_001',\n",
       " 'SE_T004_003',\n",
       " 'SE_T004_005',\n",
       " 'SE_T004_007',\n",
       " 'SE_T004_009',\n",
       " 'SE_T004_011',\n",
       " 'SE_T004_013',\n",
       " 'SE_T004_015',\n",
       " 'SE_T004_017']"
      ]
     },
     "execution_count": 19,
     "metadata": {},
     "output_type": "execute_result"
    }
   ],
   "source": [
    "# returns list of columns \n",
    "columns = list(df2) # this is the same as df.columns.to_list()\n",
    "columns"
   ]
  },
  {
   "cell_type": "markdown",
   "metadata": {
    "slideshow": {
     "slide_type": "slide"
    }
   },
   "source": [
    "Then, simply copy and paste the output list above, and define the columns with it. Replace the values with your desired column names"
   ]
  },
  {
   "cell_type": "code",
   "execution_count": 20,
   "metadata": {},
   "outputs": [],
   "source": [
    "df2.columns = ['FIPS',\n",
    "'TotalPop',\n",
    "'Non Hispanic',\n",
    "'Non Hispanic White Alone',\n",
    "'Non Hispanic Black Alone',\n",
    "'Non Hispanic American Indian and Alaska Native Alone',\n",
    "'Non Hispanic Asian Alone',\n",
    "'Non Hispanic Native Hawaiian and Pacific Islander Alone',\n",
    "'Non Hispanic Other Alone',\n",
    "'Non Hispanic Multi Race',\n",
    "'Hispanic']\n"
   ]
  },
  {
   "cell_type": "code",
   "execution_count": 21,
   "metadata": {
    "slideshow": {
     "slide_type": "slide"
    }
   },
   "outputs": [
    {
     "data": {
      "text/html": [
       "<div>\n",
       "<style scoped>\n",
       "    .dataframe tbody tr th:only-of-type {\n",
       "        vertical-align: middle;\n",
       "    }\n",
       "\n",
       "    .dataframe tbody tr th {\n",
       "        vertical-align: top;\n",
       "    }\n",
       "\n",
       "    .dataframe thead th {\n",
       "        text-align: right;\n",
       "    }\n",
       "</style>\n",
       "<table border=\"1\" class=\"dataframe\">\n",
       "  <thead>\n",
       "    <tr style=\"text-align: right;\">\n",
       "      <th></th>\n",
       "      <th>FIPS</th>\n",
       "      <th>TotalPop</th>\n",
       "      <th>Non Hispanic</th>\n",
       "      <th>Non Hispanic White Alone</th>\n",
       "      <th>Non Hispanic Black Alone</th>\n",
       "      <th>Non Hispanic American Indian and Alaska Native Alone</th>\n",
       "      <th>Non Hispanic Asian Alone</th>\n",
       "      <th>Non Hispanic Native Hawaiian and Pacific Islander Alone</th>\n",
       "      <th>Non Hispanic Other Alone</th>\n",
       "      <th>Non Hispanic Multi Race</th>\n",
       "      <th>Hispanic</th>\n",
       "    </tr>\n",
       "  </thead>\n",
       "  <tbody>\n",
       "    <tr>\n",
       "      <th>1924</th>\n",
       "      <td>06037554801</td>\n",
       "      <td>3281</td>\n",
       "      <td>913</td>\n",
       "      <td>227</td>\n",
       "      <td>99</td>\n",
       "      <td>8</td>\n",
       "      <td>520</td>\n",
       "      <td>5</td>\n",
       "      <td>20</td>\n",
       "      <td>34</td>\n",
       "      <td>2368</td>\n",
       "    </tr>\n",
       "    <tr>\n",
       "      <th>309</th>\n",
       "      <td>06037134424</td>\n",
       "      <td>2862</td>\n",
       "      <td>2619</td>\n",
       "      <td>1890</td>\n",
       "      <td>74</td>\n",
       "      <td>0</td>\n",
       "      <td>540</td>\n",
       "      <td>0</td>\n",
       "      <td>13</td>\n",
       "      <td>102</td>\n",
       "      <td>243</td>\n",
       "    </tr>\n",
       "    <tr>\n",
       "      <th>388</th>\n",
       "      <td>06037143802</td>\n",
       "      <td>2298</td>\n",
       "      <td>2072</td>\n",
       "      <td>1674</td>\n",
       "      <td>82</td>\n",
       "      <td>2</td>\n",
       "      <td>165</td>\n",
       "      <td>0</td>\n",
       "      <td>13</td>\n",
       "      <td>136</td>\n",
       "      <td>226</td>\n",
       "    </tr>\n",
       "    <tr>\n",
       "      <th>1722</th>\n",
       "      <td>06037534201</td>\n",
       "      <td>4232</td>\n",
       "      <td>217</td>\n",
       "      <td>96</td>\n",
       "      <td>39</td>\n",
       "      <td>27</td>\n",
       "      <td>23</td>\n",
       "      <td>4</td>\n",
       "      <td>13</td>\n",
       "      <td>15</td>\n",
       "      <td>4015</td>\n",
       "    </tr>\n",
       "    <tr>\n",
       "      <th>312</th>\n",
       "      <td>06037134522</td>\n",
       "      <td>4015</td>\n",
       "      <td>1146</td>\n",
       "      <td>529</td>\n",
       "      <td>140</td>\n",
       "      <td>12</td>\n",
       "      <td>364</td>\n",
       "      <td>2</td>\n",
       "      <td>16</td>\n",
       "      <td>83</td>\n",
       "      <td>2869</td>\n",
       "    </tr>\n",
       "  </tbody>\n",
       "</table>\n",
       "</div>"
      ],
      "text/plain": [
       "             FIPS  TotalPop  Non Hispanic  Non Hispanic White Alone  \\\n",
       "1924  06037554801      3281           913                       227   \n",
       "309   06037134424      2862          2619                      1890   \n",
       "388   06037143802      2298          2072                      1674   \n",
       "1722  06037534201      4232           217                        96   \n",
       "312   06037134522      4015          1146                       529   \n",
       "\n",
       "      Non Hispanic Black Alone  \\\n",
       "1924                        99   \n",
       "309                         74   \n",
       "388                         82   \n",
       "1722                        39   \n",
       "312                        140   \n",
       "\n",
       "      Non Hispanic American Indian and Alaska Native Alone  \\\n",
       "1924                                                  8      \n",
       "309                                                   0      \n",
       "388                                                   2      \n",
       "1722                                                 27      \n",
       "312                                                  12      \n",
       "\n",
       "      Non Hispanic Asian Alone  \\\n",
       "1924                       520   \n",
       "309                        540   \n",
       "388                        165   \n",
       "1722                        23   \n",
       "312                        364   \n",
       "\n",
       "      Non Hispanic Native Hawaiian and Pacific Islander Alone  \\\n",
       "1924                                                  5         \n",
       "309                                                   0         \n",
       "388                                                   0         \n",
       "1722                                                  4         \n",
       "312                                                   2         \n",
       "\n",
       "      Non Hispanic Other Alone  Non Hispanic Multi Race  Hispanic  \n",
       "1924                        20                       34      2368  \n",
       "309                         13                      102       243  \n",
       "388                         13                      136       226  \n",
       "1722                        13                       15      4015  \n",
       "312                         16                       83      2869  "
      ]
     },
     "execution_count": 21,
     "metadata": {},
     "output_type": "execute_result"
    }
   ],
   "source": [
    "df2.sample(5)"
   ]
  },
  {
   "cell_type": "markdown",
   "metadata": {
    "slideshow": {
     "slide_type": "slide"
    }
   },
   "source": [
    "## Simple stats and plots\n",
    "\n",
    "- [histograms](https://pandas.pydata.org/docs/reference/api/pandas.DataFrame.plot.hist.html)\n",
    "- [box plots](https://pandas.pydata.org/docs/reference/api/pandas.DataFrame.boxplot.html)\n",
    "- [scatter plots](https://pandas.pydata.org/docs/reference/api/pandas.DataFrame.plot.scatter.html)\n"
   ]
  },
  {
   "cell_type": "code",
   "execution_count": 22,
   "metadata": {
    "scrolled": true
   },
   "outputs": [
    {
     "data": {
      "text/plain": [
       "0    4926\n",
       "1    3728\n",
       "2    3344\n",
       "3    3444\n",
       "4    2808\n",
       "Name: TotalPop, dtype: int64"
      ]
     },
     "execution_count": 22,
     "metadata": {},
     "output_type": "execute_result"
    }
   ],
   "source": [
    "# access a single column like df['col_name']\n",
    "df2['TotalPop'].head()"
   ]
  },
  {
   "cell_type": "code",
   "execution_count": 23,
   "metadata": {
    "slideshow": {
     "slide_type": "slide"
    }
   },
   "outputs": [
    {
     "data": {
      "text/plain": [
       "4008.810648518815"
      ]
     },
     "execution_count": 23,
     "metadata": {},
     "output_type": "execute_result"
    }
   ],
   "source": [
    "# What is the mean?\n",
    "df2['TotalPop'].mean()"
   ]
  },
  {
   "cell_type": "code",
   "execution_count": 24,
   "metadata": {},
   "outputs": [
    {
     "data": {
      "text/plain": [
       "3905.0"
      ]
     },
     "execution_count": 24,
     "metadata": {},
     "output_type": "execute_result"
    }
   ],
   "source": [
    "# What is the median?\n",
    "df2['TotalPop'].median()"
   ]
  },
  {
   "cell_type": "code",
   "execution_count": 25,
   "metadata": {},
   "outputs": [
    {
     "data": {
      "text/plain": [
       "count     2498.000000\n",
       "mean      4008.810649\n",
       "std       1426.474450\n",
       "min          0.000000\n",
       "25%       3036.250000\n",
       "50%       3905.000000\n",
       "75%       4882.000000\n",
       "max      13527.000000\n",
       "Name: TotalPop, dtype: float64"
      ]
     },
     "execution_count": 25,
     "metadata": {},
     "output_type": "execute_result"
    }
   ],
   "source": [
    "# get some stats\n",
    "df2['TotalPop'].describe()"
   ]
  },
  {
   "cell_type": "code",
   "execution_count": 26,
   "metadata": {
    "scrolled": true,
    "slideshow": {
     "slide_type": "slide"
    },
    "tags": []
   },
   "outputs": [
    {
     "data": {
      "text/plain": [
       "<Axes: ylabel='Frequency'>"
      ]
     },
     "execution_count": 26,
     "metadata": {},
     "output_type": "execute_result"
    },
    {
     "data": {
      "image/png": "[encoded data removed]",
      "text/plain": [
       "<Figure size 640x480 with 1 Axes>"
      ]
     },
     "metadata": {},
     "output_type": "display_data"
    }
   ],
   "source": [
    "# plot it as a historgram with 50 bins\n",
    "df2['TotalPop'].plot.hist(bins=50)"
   ]
  },
  {
   "cell_type": "code",
   "execution_count": 27,
   "metadata": {
    "slideshow": {
     "slide_type": "slide"
    }
   },
   "outputs": [
    {
     "data": {
      "text/plain": [
       "<Axes: >"
      ]
     },
     "execution_count": 27,
     "metadata": {},
     "output_type": "execute_result"
    },
    {
     "data": {
      "image/png": "[encoded data removed]",
      "text/plain": [
       "<Figure size 640x480 with 1 Axes>"
      ]
     },
     "metadata": {},
     "output_type": "display_data"
    }
   ],
   "source": [
    "# box plot: notice the different syntax to generate it\n",
    "df2.boxplot(column=['TotalPop'])"
   ]
  },
  {
   "cell_type": "markdown",
   "metadata": {
    "slideshow": {
     "slide_type": "slide"
    }
   },
   "source": [
    "<div class=\"alert alert-info\">\n",
    "    Now it's your turn. Find some stats for different fields in the data and output them below.\n",
    "    </div>"
   ]
  },
  {
   "cell_type": "code",
   "execution_count": null,
   "metadata": {},
   "outputs": [],
   "source": []
  },
  {
   "cell_type": "markdown",
   "metadata": {
    "slideshow": {
     "slide_type": "slide"
    }
   },
   "source": [
    "## Sorting\n",
    "What are the top 10 most populated census tracts? What are the census tracts with the highest black popluation? To answer these questions, the simplest method is to sort the data by their respective columns."
   ]
  },
  {
   "cell_type": "code",
   "execution_count": 28,
   "metadata": {},
   "outputs": [],
   "source": [
    "df_sorted = df2.sort_values(by='TotalPop',ascending = False)"
   ]
  },
  {
   "cell_type": "code",
   "execution_count": 29,
   "metadata": {
    "scrolled": true,
    "slideshow": {
     "slide_type": "slide"
    }
   },
   "outputs": [
    {
     "data": {
      "text/html": [
       "<div>\n",
       "<style scoped>\n",
       "    .dataframe tbody tr th:only-of-type {\n",
       "        vertical-align: middle;\n",
       "    }\n",
       "\n",
       "    .dataframe tbody tr th {\n",
       "        vertical-align: top;\n",
       "    }\n",
       "\n",
       "    .dataframe thead th {\n",
       "        text-align: right;\n",
       "    }\n",
       "</style>\n",
       "<table border=\"1\" class=\"dataframe\">\n",
       "  <thead>\n",
       "    <tr style=\"text-align: right;\">\n",
       "      <th></th>\n",
       "      <th>FIPS</th>\n",
       "      <th>TotalPop</th>\n",
       "    </tr>\n",
       "  </thead>\n",
       "  <tbody>\n",
       "    <tr>\n",
       "      <th>938</th>\n",
       "      <td>06037265301</td>\n",
       "      <td>13527</td>\n",
       "    </tr>\n",
       "    <tr>\n",
       "      <th>2278</th>\n",
       "      <td>06037702900</td>\n",
       "      <td>11373</td>\n",
       "    </tr>\n",
       "    <tr>\n",
       "      <th>1028</th>\n",
       "      <td>06037275604</td>\n",
       "      <td>10520</td>\n",
       "    </tr>\n",
       "    <tr>\n",
       "      <th>2438</th>\n",
       "      <td>06037920121</td>\n",
       "      <td>10332</td>\n",
       "    </tr>\n",
       "    <tr>\n",
       "      <th>2417</th>\n",
       "      <td>06037920043</td>\n",
       "      <td>8832</td>\n",
       "    </tr>\n",
       "    <tr>\n",
       "      <th>69</th>\n",
       "      <td>06037108202</td>\n",
       "      <td>8701</td>\n",
       "    </tr>\n",
       "    <tr>\n",
       "      <th>1604</th>\n",
       "      <td>06037502303</td>\n",
       "      <td>8396</td>\n",
       "    </tr>\n",
       "    <tr>\n",
       "      <th>1309</th>\n",
       "      <td>06037406103</td>\n",
       "      <td>8353</td>\n",
       "    </tr>\n",
       "    <tr>\n",
       "      <th>1207</th>\n",
       "      <td>06037401707</td>\n",
       "      <td>8320</td>\n",
       "    </tr>\n",
       "    <tr>\n",
       "      <th>2176</th>\n",
       "      <td>06037621201</td>\n",
       "      <td>8259</td>\n",
       "    </tr>\n",
       "  </tbody>\n",
       "</table>\n",
       "</div>"
      ],
      "text/plain": [
       "             FIPS  TotalPop\n",
       "938   06037265301     13527\n",
       "2278  06037702900     11373\n",
       "1028  06037275604     10520\n",
       "2438  06037920121     10332\n",
       "2417  06037920043      8832\n",
       "69    06037108202      8701\n",
       "1604  06037502303      8396\n",
       "1309  06037406103      8353\n",
       "1207  06037401707      8320\n",
       "2176  06037621201      8259"
      ]
     },
     "execution_count": 29,
     "metadata": {},
     "output_type": "execute_result"
    }
   ],
   "source": [
    "# display the data, but just a few columns to keep it clean\n",
    "df_sorted[['FIPS','TotalPop']].head(10)"
   ]
  },
  {
   "cell_type": "code",
   "execution_count": 30,
   "metadata": {
    "slideshow": {
     "slide_type": "slide"
    }
   },
   "outputs": [
    {
     "data": {
      "text/plain": [
       "<Axes: xlabel='FIPS'>"
      ]
     },
     "execution_count": 30,
     "metadata": {},
     "output_type": "execute_result"
    },
    {
     "data": {
      "image/png": "[encoded data removed]",
      "text/plain": [
       "<Figure size 640x480 with 1 Axes>"
      ]
     },
     "metadata": {},
     "output_type": "display_data"
    }
   ],
   "source": [
    "# plot it\n",
    "df_sorted.head(10).plot.bar(x='FIPS',\n",
    "                            y='TotalPop')"
   ]
  },
  {
   "cell_type": "code",
   "execution_count": 31,
   "metadata": {
    "slideshow": {
     "slide_type": "slide"
    }
   },
   "outputs": [
    {
     "data": {
      "text/plain": [
       "<Axes: title={'center': 'Top 10 Census Tracts with Highest Population in Los Angeles County in 2020'}, ylabel='FIPS'>"
      ]
     },
     "execution_count": 31,
     "metadata": {},
     "output_type": "execute_result"
    },
    {
     "data": {
      "image/png": "[encoded data removed]",
      "text/plain": [
       "<Figure size 640x480 with 1 Axes>"
      ]
     },
     "metadata": {},
     "output_type": "display_data"
    }
   ],
   "source": [
    "# Make it prettier with a title\n",
    "df_sorted.head(10).plot.barh(x='FIPS',\n",
    "                            y='TotalPop', \n",
    "                            title='Top 10 Census Tracts with Highest Population in Los Angeles County in 2020',\n",
    "                            color='red')"
   ]
  },
  {
   "cell_type": "markdown",
   "metadata": {
    "slideshow": {
     "slide_type": "slide"
    }
   },
   "source": [
    "<div class=\"alert alert-info\">\n",
    "    Now it's your turn! Create a table and accompanying bar plot for the top 10 values for column of your choice\n",
    "</div>"
   ]
  },
  {
   "cell_type": "code",
   "execution_count": null,
   "metadata": {},
   "outputs": [],
   "source": [
    "\n"
   ]
  },
  {
   "cell_type": "markdown",
   "metadata": {
    "slideshow": {
     "slide_type": "slide"
    }
   },
   "source": [
    "## Filtering and subsetting data\n",
    "Sorting is one method, but the process of discovery compels us to interrogate the data in different ways. One method of doing so is to query, or filter the data to see specific views of the data based on a question you may have. For example, what are the census tract that have no people in them? Or, Which census tracts are more than 75% black?"
   ]
  },
  {
   "cell_type": "code",
   "execution_count": 32,
   "metadata": {
    "scrolled": true,
    "slideshow": {
     "slide_type": "slide"
    },
    "tags": []
   },
   "outputs": [
    {
     "data": {
      "text/html": [
       "<div>\n",
       "<style scoped>\n",
       "    .dataframe tbody tr th:only-of-type {\n",
       "        vertical-align: middle;\n",
       "    }\n",
       "\n",
       "    .dataframe tbody tr th {\n",
       "        vertical-align: top;\n",
       "    }\n",
       "\n",
       "    .dataframe thead th {\n",
       "        text-align: right;\n",
       "    }\n",
       "</style>\n",
       "<table border=\"1\" class=\"dataframe\">\n",
       "  <thead>\n",
       "    <tr style=\"text-align: right;\">\n",
       "      <th></th>\n",
       "      <th>FIPS</th>\n",
       "      <th>TotalPop</th>\n",
       "      <th>Non Hispanic</th>\n",
       "      <th>Non Hispanic White Alone</th>\n",
       "      <th>Non Hispanic Black Alone</th>\n",
       "      <th>Non Hispanic American Indian and Alaska Native Alone</th>\n",
       "      <th>Non Hispanic Asian Alone</th>\n",
       "      <th>Non Hispanic Native Hawaiian and Pacific Islander Alone</th>\n",
       "      <th>Non Hispanic Other Alone</th>\n",
       "      <th>Non Hispanic Multi Race</th>\n",
       "      <th>Hispanic</th>\n",
       "    </tr>\n",
       "  </thead>\n",
       "  <tbody>\n",
       "    <tr>\n",
       "      <th>2461</th>\n",
       "      <td>06037980003</td>\n",
       "      <td>0</td>\n",
       "      <td>0</td>\n",
       "      <td>0</td>\n",
       "      <td>0</td>\n",
       "      <td>0</td>\n",
       "      <td>0</td>\n",
       "      <td>0</td>\n",
       "      <td>0</td>\n",
       "      <td>0</td>\n",
       "      <td>0</td>\n",
       "    </tr>\n",
       "    <tr>\n",
       "      <th>2462</th>\n",
       "      <td>06037980004</td>\n",
       "      <td>0</td>\n",
       "      <td>0</td>\n",
       "      <td>0</td>\n",
       "      <td>0</td>\n",
       "      <td>0</td>\n",
       "      <td>0</td>\n",
       "      <td>0</td>\n",
       "      <td>0</td>\n",
       "      <td>0</td>\n",
       "      <td>0</td>\n",
       "    </tr>\n",
       "    <tr>\n",
       "      <th>2470</th>\n",
       "      <td>06037980012</td>\n",
       "      <td>0</td>\n",
       "      <td>0</td>\n",
       "      <td>0</td>\n",
       "      <td>0</td>\n",
       "      <td>0</td>\n",
       "      <td>0</td>\n",
       "      <td>0</td>\n",
       "      <td>0</td>\n",
       "      <td>0</td>\n",
       "      <td>0</td>\n",
       "    </tr>\n",
       "    <tr>\n",
       "      <th>2480</th>\n",
       "      <td>06037980022</td>\n",
       "      <td>0</td>\n",
       "      <td>0</td>\n",
       "      <td>0</td>\n",
       "      <td>0</td>\n",
       "      <td>0</td>\n",
       "      <td>0</td>\n",
       "      <td>0</td>\n",
       "      <td>0</td>\n",
       "      <td>0</td>\n",
       "      <td>0</td>\n",
       "    </tr>\n",
       "    <tr>\n",
       "      <th>2486</th>\n",
       "      <td>06037980030</td>\n",
       "      <td>0</td>\n",
       "      <td>0</td>\n",
       "      <td>0</td>\n",
       "      <td>0</td>\n",
       "      <td>0</td>\n",
       "      <td>0</td>\n",
       "      <td>0</td>\n",
       "      <td>0</td>\n",
       "      <td>0</td>\n",
       "      <td>0</td>\n",
       "    </tr>\n",
       "    <tr>\n",
       "      <th>2492</th>\n",
       "      <td>06037980037</td>\n",
       "      <td>0</td>\n",
       "      <td>0</td>\n",
       "      <td>0</td>\n",
       "      <td>0</td>\n",
       "      <td>0</td>\n",
       "      <td>0</td>\n",
       "      <td>0</td>\n",
       "      <td>0</td>\n",
       "      <td>0</td>\n",
       "      <td>0</td>\n",
       "    </tr>\n",
       "    <tr>\n",
       "      <th>2494</th>\n",
       "      <td>06037980039</td>\n",
       "      <td>0</td>\n",
       "      <td>0</td>\n",
       "      <td>0</td>\n",
       "      <td>0</td>\n",
       "      <td>0</td>\n",
       "      <td>0</td>\n",
       "      <td>0</td>\n",
       "      <td>0</td>\n",
       "      <td>0</td>\n",
       "      <td>0</td>\n",
       "    </tr>\n",
       "    <tr>\n",
       "      <th>2495</th>\n",
       "      <td>06037990100</td>\n",
       "      <td>0</td>\n",
       "      <td>0</td>\n",
       "      <td>0</td>\n",
       "      <td>0</td>\n",
       "      <td>0</td>\n",
       "      <td>0</td>\n",
       "      <td>0</td>\n",
       "      <td>0</td>\n",
       "      <td>0</td>\n",
       "      <td>0</td>\n",
       "    </tr>\n",
       "    <tr>\n",
       "      <th>2496</th>\n",
       "      <td>06037990200</td>\n",
       "      <td>0</td>\n",
       "      <td>0</td>\n",
       "      <td>0</td>\n",
       "      <td>0</td>\n",
       "      <td>0</td>\n",
       "      <td>0</td>\n",
       "      <td>0</td>\n",
       "      <td>0</td>\n",
       "      <td>0</td>\n",
       "      <td>0</td>\n",
       "    </tr>\n",
       "    <tr>\n",
       "      <th>2497</th>\n",
       "      <td>06037990300</td>\n",
       "      <td>0</td>\n",
       "      <td>0</td>\n",
       "      <td>0</td>\n",
       "      <td>0</td>\n",
       "      <td>0</td>\n",
       "      <td>0</td>\n",
       "      <td>0</td>\n",
       "      <td>0</td>\n",
       "      <td>0</td>\n",
       "      <td>0</td>\n",
       "    </tr>\n",
       "  </tbody>\n",
       "</table>\n",
       "</div>"
      ],
      "text/plain": [
       "             FIPS  TotalPop  Non Hispanic  Non Hispanic White Alone  \\\n",
       "2461  06037980003         0             0                         0   \n",
       "2462  06037980004         0             0                         0   \n",
       "2470  06037980012         0             0                         0   \n",
       "2480  06037980022         0             0                         0   \n",
       "2486  06037980030         0             0                         0   \n",
       "2492  06037980037         0             0                         0   \n",
       "2494  06037980039         0             0                         0   \n",
       "2495  06037990100         0             0                         0   \n",
       "2496  06037990200         0             0                         0   \n",
       "2497  06037990300         0             0                         0   \n",
       "\n",
       "      Non Hispanic Black Alone  \\\n",
       "2461                         0   \n",
       "2462                         0   \n",
       "2470                         0   \n",
       "2480                         0   \n",
       "2486                         0   \n",
       "2492                         0   \n",
       "2494                         0   \n",
       "2495                         0   \n",
       "2496                         0   \n",
       "2497                         0   \n",
       "\n",
       "      Non Hispanic American Indian and Alaska Native Alone  \\\n",
       "2461                                                  0      \n",
       "2462                                                  0      \n",
       "2470                                                  0      \n",
       "2480                                                  0      \n",
       "2486                                                  0      \n",
       "2492                                                  0      \n",
       "2494                                                  0      \n",
       "2495                                                  0      \n",
       "2496                                                  0      \n",
       "2497                                                  0      \n",
       "\n",
       "      Non Hispanic Asian Alone  \\\n",
       "2461                         0   \n",
       "2462                         0   \n",
       "2470                         0   \n",
       "2480                         0   \n",
       "2486                         0   \n",
       "2492                         0   \n",
       "2494                         0   \n",
       "2495                         0   \n",
       "2496                         0   \n",
       "2497                         0   \n",
       "\n",
       "      Non Hispanic Native Hawaiian and Pacific Islander Alone  \\\n",
       "2461                                                  0         \n",
       "2462                                                  0         \n",
       "2470                                                  0         \n",
       "2480                                                  0         \n",
       "2486                                                  0         \n",
       "2492                                                  0         \n",
       "2494                                                  0         \n",
       "2495                                                  0         \n",
       "2496                                                  0         \n",
       "2497                                                  0         \n",
       "\n",
       "      Non Hispanic Other Alone  Non Hispanic Multi Race  Hispanic  \n",
       "2461                         0                        0         0  \n",
       "2462                         0                        0         0  \n",
       "2470                         0                        0         0  \n",
       "2480                         0                        0         0  \n",
       "2486                         0                        0         0  \n",
       "2492                         0                        0         0  \n",
       "2494                         0                        0         0  \n",
       "2495                         0                        0         0  \n",
       "2496                         0                        0         0  \n",
       "2497                         0                        0         0  "
      ]
     },
     "execution_count": 32,
     "metadata": {},
     "output_type": "execute_result"
    }
   ],
   "source": [
    "# subset the data so that we can see the data per row... \n",
    "# in other words, this syntax is asking to \"show me the values in my dataframe that match this filter\n",
    "df2[df2['TotalPop']==0]"
   ]
  },
  {
   "cell_type": "markdown",
   "metadata": {
    "slideshow": {
     "slide_type": "slide"
    }
   },
   "source": [
    "Note that unless you specify the resulting output as a new variable, the results are only temporary (in memory). If you want to use the results for subsequent analysis, you need to create a new variable."
   ]
  },
  {
   "cell_type": "code",
   "execution_count": 33,
   "metadata": {},
   "outputs": [],
   "source": [
    "# create a new variable for census tracts with zero pop\n",
    "df_no_pop = df2[df2['TotalPop']==0]"
   ]
  },
  {
   "cell_type": "code",
   "execution_count": 34,
   "metadata": {
    "slideshow": {
     "slide_type": "slide"
    }
   },
   "outputs": [
    {
     "name": "stdout",
     "output_type": "stream",
     "text": [
      "There are 10 census tracts with no people in them\n"
     ]
    }
   ],
   "source": [
    "# how many records?\n",
    "print('There are ' + str(len(df_no_pop)) + ' census tracts with no people in them')"
   ]
  },
  {
   "cell_type": "code",
   "execution_count": 35,
   "metadata": {
    "scrolled": true,
    "slideshow": {
     "slide_type": "fragment"
    }
   },
   "outputs": [
    {
     "data": {
      "text/html": [
       "<div>\n",
       "<style scoped>\n",
       "    .dataframe tbody tr th:only-of-type {\n",
       "        vertical-align: middle;\n",
       "    }\n",
       "\n",
       "    .dataframe tbody tr th {\n",
       "        vertical-align: top;\n",
       "    }\n",
       "\n",
       "    .dataframe thead th {\n",
       "        text-align: right;\n",
       "    }\n",
       "</style>\n",
       "<table border=\"1\" class=\"dataframe\">\n",
       "  <thead>\n",
       "    <tr style=\"text-align: right;\">\n",
       "      <th></th>\n",
       "      <th>FIPS</th>\n",
       "      <th>TotalPop</th>\n",
       "    </tr>\n",
       "  </thead>\n",
       "  <tbody>\n",
       "    <tr>\n",
       "      <th>2461</th>\n",
       "      <td>06037980003</td>\n",
       "      <td>0</td>\n",
       "    </tr>\n",
       "    <tr>\n",
       "      <th>2462</th>\n",
       "      <td>06037980004</td>\n",
       "      <td>0</td>\n",
       "    </tr>\n",
       "    <tr>\n",
       "      <th>2470</th>\n",
       "      <td>06037980012</td>\n",
       "      <td>0</td>\n",
       "    </tr>\n",
       "    <tr>\n",
       "      <th>2480</th>\n",
       "      <td>06037980022</td>\n",
       "      <td>0</td>\n",
       "    </tr>\n",
       "    <tr>\n",
       "      <th>2486</th>\n",
       "      <td>06037980030</td>\n",
       "      <td>0</td>\n",
       "    </tr>\n",
       "    <tr>\n",
       "      <th>2492</th>\n",
       "      <td>06037980037</td>\n",
       "      <td>0</td>\n",
       "    </tr>\n",
       "    <tr>\n",
       "      <th>2494</th>\n",
       "      <td>06037980039</td>\n",
       "      <td>0</td>\n",
       "    </tr>\n",
       "    <tr>\n",
       "      <th>2495</th>\n",
       "      <td>06037990100</td>\n",
       "      <td>0</td>\n",
       "    </tr>\n",
       "    <tr>\n",
       "      <th>2496</th>\n",
       "      <td>06037990200</td>\n",
       "      <td>0</td>\n",
       "    </tr>\n",
       "    <tr>\n",
       "      <th>2497</th>\n",
       "      <td>06037990300</td>\n",
       "      <td>0</td>\n",
       "    </tr>\n",
       "  </tbody>\n",
       "</table>\n",
       "</div>"
      ],
      "text/plain": [
       "             FIPS  TotalPop\n",
       "2461  06037980003         0\n",
       "2462  06037980004         0\n",
       "2470  06037980012         0\n",
       "2480  06037980022         0\n",
       "2486  06037980030         0\n",
       "2492  06037980037         0\n",
       "2494  06037980039         0\n",
       "2495  06037990100         0\n",
       "2496  06037990200         0\n",
       "2497  06037990300         0"
      ]
     },
     "execution_count": 35,
     "metadata": {},
     "output_type": "execute_result"
    }
   ],
   "source": [
    "# display it\n",
    "df_no_pop[['FIPS','TotalPop']]"
   ]
  },
  {
   "cell_type": "markdown",
   "metadata": {
    "slideshow": {
     "slide_type": "slide"
    }
   },
   "source": [
    "<div class=\"alert alert-info\">\n",
    "    Now it's your turn! Find out how many census tracts have more than 3000 Black persons, and output them in a table.\n",
    "    <br>\n",
    "    <br>\n",
    "    Extra points if you can show only relevant columns, and sort them from highest to lowest!\n",
    "</div>"
   ]
  },
  {
   "cell_type": "code",
   "execution_count": 36,
   "metadata": {},
   "outputs": [],
   "source": [
    "df_subset = df2[df2['Non Hispanic Black Alone'] > 5000]\n"
   ]
  },
  {
   "cell_type": "markdown",
   "metadata": {
    "slideshow": {
     "slide_type": "slide"
    }
   },
   "source": [
    "# Maps!"
   ]
  },
  {
   "cell_type": "markdown",
   "metadata": {},
   "source": [
    "## Geopandas to read geojson\n",
    "Last week, we learned how to read a shapefile using geopandas. Geopandas can read other spatial file formats, so let's try it with the popular [geojson format](https://geojson.org/).\n",
    "\n",
    "* Data from the County of Los Angeles Enterprise GIS portal [link](https://egis-lacounty.hub.arcgis.com/datasets/lacounty::census-tracts-2020/explore?location=33.900234%2C-118.282321%2C8.30)\n",
    "\n",
    "For the purposes of this lab, the data has been downloaded and made available in the data folder.\n",
    "\n"
   ]
  },
  {
   "cell_type": "code",
   "execution_count": 37,
   "metadata": {},
   "outputs": [],
   "source": [
    "import geopandas as gpd"
   ]
  },
  {
   "cell_type": "code",
   "execution_count": 38,
   "metadata": {
    "scrolled": true,
    "slideshow": {
     "slide_type": "slide"
    }
   },
   "outputs": [
    {
     "name": "stderr",
     "output_type": "stream",
     "text": [
      "ERROR 1: PROJ: proj_create_from_database: Open of /opt/conda/share/proj failed\n"
     ]
    },
    {
     "ename": "DriverError",
     "evalue": "data/Census_Tracts_2020.geojson: No such file or directory",
     "output_type": "error",
     "traceback": [
      "\u001b[0;31m---------------------------------------------------------------------------\u001b[0m",
      "\u001b[0;31mCPLE_OpenFailedError\u001b[0m                      Traceback (most recent call last)",
      "File \u001b[0;32mfiona/ogrext.pyx:136\u001b[0m, in \u001b[0;36mfiona.ogrext.gdal_open_vector\u001b[0;34m()\u001b[0m\n",
      "File \u001b[0;32mfiona/_err.pyx:291\u001b[0m, in \u001b[0;36mfiona._err.exc_wrap_pointer\u001b[0;34m()\u001b[0m\n",
      "\u001b[0;31mCPLE_OpenFailedError\u001b[0m: data/Census_Tracts_2020.geojson: No such file or directory",
      "\nDuring handling of the above exception, another exception occurred:\n",
      "\u001b[0;31mDriverError\u001b[0m                               Traceback (most recent call last)",
      "Cell \u001b[0;32mIn[38], line 2\u001b[0m\n\u001b[1;32m      1\u001b[0m \u001b[38;5;66;03m# read in a geojson file downloaded from the LA Times\u001b[39;00m\n\u001b[0;32m----> 2\u001b[0m tracts\u001b[38;5;241m=\u001b[39m\u001b[43mgpd\u001b[49m\u001b[38;5;241;43m.\u001b[39;49m\u001b[43mread_file\u001b[49m\u001b[43m(\u001b[49m\u001b[38;5;124;43m'\u001b[39;49m\u001b[38;5;124;43mdata/Census_Tracts_2020.geojson\u001b[39;49m\u001b[38;5;124;43m'\u001b[39;49m\u001b[43m)\u001b[49m\n\u001b[1;32m      3\u001b[0m tracts\u001b[38;5;241m.\u001b[39mhead()\n",
      "File \u001b[0;32m/opt/conda/lib/python3.11/site-packages/geopandas/io/file.py:297\u001b[0m, in \u001b[0;36m_read_file\u001b[0;34m(filename, bbox, mask, rows, engine, **kwargs)\u001b[0m\n\u001b[1;32m    294\u001b[0m     \u001b[38;5;28;01melse\u001b[39;00m:\n\u001b[1;32m    295\u001b[0m         path_or_bytes \u001b[38;5;241m=\u001b[39m filename\n\u001b[0;32m--> 297\u001b[0m     \u001b[38;5;28;01mreturn\u001b[39;00m \u001b[43m_read_file_fiona\u001b[49m\u001b[43m(\u001b[49m\n\u001b[1;32m    298\u001b[0m \u001b[43m        \u001b[49m\u001b[43mpath_or_bytes\u001b[49m\u001b[43m,\u001b[49m\u001b[43m \u001b[49m\u001b[43mfrom_bytes\u001b[49m\u001b[43m,\u001b[49m\u001b[43m \u001b[49m\u001b[43mbbox\u001b[49m\u001b[38;5;241;43m=\u001b[39;49m\u001b[43mbbox\u001b[49m\u001b[43m,\u001b[49m\u001b[43m \u001b[49m\u001b[43mmask\u001b[49m\u001b[38;5;241;43m=\u001b[39;49m\u001b[43mmask\u001b[49m\u001b[43m,\u001b[49m\u001b[43m \u001b[49m\u001b[43mrows\u001b[49m\u001b[38;5;241;43m=\u001b[39;49m\u001b[43mrows\u001b[49m\u001b[43m,\u001b[49m\u001b[43m \u001b[49m\u001b[38;5;241;43m*\u001b[39;49m\u001b[38;5;241;43m*\u001b[39;49m\u001b[43mkwargs\u001b[49m\n\u001b[1;32m    299\u001b[0m \u001b[43m    \u001b[49m\u001b[43m)\u001b[49m\n\u001b[1;32m    301\u001b[0m \u001b[38;5;28;01melse\u001b[39;00m:\n\u001b[1;32m    302\u001b[0m     \u001b[38;5;28;01mraise\u001b[39;00m \u001b[38;5;167;01mValueError\u001b[39;00m(\u001b[38;5;124mf\u001b[39m\u001b[38;5;124m\"\u001b[39m\u001b[38;5;124munknown engine \u001b[39m\u001b[38;5;124m'\u001b[39m\u001b[38;5;132;01m{\u001b[39;00mengine\u001b[38;5;132;01m}\u001b[39;00m\u001b[38;5;124m'\u001b[39m\u001b[38;5;124m\"\u001b[39m)\n",
      "File \u001b[0;32m/opt/conda/lib/python3.11/site-packages/geopandas/io/file.py:338\u001b[0m, in \u001b[0;36m_read_file_fiona\u001b[0;34m(path_or_bytes, from_bytes, bbox, mask, rows, where, **kwargs)\u001b[0m\n\u001b[1;32m    335\u001b[0m     reader \u001b[38;5;241m=\u001b[39m fiona\u001b[38;5;241m.\u001b[39mopen\n\u001b[1;32m    337\u001b[0m \u001b[38;5;28;01mwith\u001b[39;00m fiona_env():\n\u001b[0;32m--> 338\u001b[0m     \u001b[38;5;28;01mwith\u001b[39;00m \u001b[43mreader\u001b[49m\u001b[43m(\u001b[49m\u001b[43mpath_or_bytes\u001b[49m\u001b[43m,\u001b[49m\u001b[43m \u001b[49m\u001b[38;5;241;43m*\u001b[39;49m\u001b[38;5;241;43m*\u001b[39;49m\u001b[43mkwargs\u001b[49m\u001b[43m)\u001b[49m \u001b[38;5;28;01mas\u001b[39;00m features:\n\u001b[1;32m    339\u001b[0m         crs \u001b[38;5;241m=\u001b[39m features\u001b[38;5;241m.\u001b[39mcrs_wkt\n\u001b[1;32m    340\u001b[0m         \u001b[38;5;66;03m# attempt to get EPSG code\u001b[39;00m\n",
      "File \u001b[0;32m/opt/conda/lib/python3.11/site-packages/fiona/env.py:457\u001b[0m, in \u001b[0;36mensure_env_with_credentials.<locals>.wrapper\u001b[0;34m(*args, **kwds)\u001b[0m\n\u001b[1;32m    454\u001b[0m     session \u001b[38;5;241m=\u001b[39m DummySession()\n\u001b[1;32m    456\u001b[0m \u001b[38;5;28;01mwith\u001b[39;00m env_ctor(session\u001b[38;5;241m=\u001b[39msession):\n\u001b[0;32m--> 457\u001b[0m     \u001b[38;5;28;01mreturn\u001b[39;00m \u001b[43mf\u001b[49m\u001b[43m(\u001b[49m\u001b[38;5;241;43m*\u001b[39;49m\u001b[43margs\u001b[49m\u001b[43m,\u001b[49m\u001b[43m \u001b[49m\u001b[38;5;241;43m*\u001b[39;49m\u001b[38;5;241;43m*\u001b[39;49m\u001b[43mkwds\u001b[49m\u001b[43m)\u001b[49m\n",
      "File \u001b[0;32m/opt/conda/lib/python3.11/site-packages/fiona/__init__.py:292\u001b[0m, in \u001b[0;36mopen\u001b[0;34m(fp, mode, driver, schema, crs, encoding, layer, vfs, enabled_drivers, crs_wkt, allow_unsupported_drivers, **kwargs)\u001b[0m\n\u001b[1;32m    289\u001b[0m     path \u001b[38;5;241m=\u001b[39m parse_path(fp)\n\u001b[1;32m    291\u001b[0m \u001b[38;5;28;01mif\u001b[39;00m mode \u001b[38;5;129;01min\u001b[39;00m (\u001b[38;5;124m\"\u001b[39m\u001b[38;5;124ma\u001b[39m\u001b[38;5;124m\"\u001b[39m, \u001b[38;5;124m\"\u001b[39m\u001b[38;5;124mr\u001b[39m\u001b[38;5;124m\"\u001b[39m):\n\u001b[0;32m--> 292\u001b[0m     colxn \u001b[38;5;241m=\u001b[39m \u001b[43mCollection\u001b[49m\u001b[43m(\u001b[49m\n\u001b[1;32m    293\u001b[0m \u001b[43m        \u001b[49m\u001b[43mpath\u001b[49m\u001b[43m,\u001b[49m\n\u001b[1;32m    294\u001b[0m \u001b[43m        \u001b[49m\u001b[43mmode\u001b[49m\u001b[43m,\u001b[49m\n\u001b[1;32m    295\u001b[0m \u001b[43m        \u001b[49m\u001b[43mdriver\u001b[49m\u001b[38;5;241;43m=\u001b[39;49m\u001b[43mdriver\u001b[49m\u001b[43m,\u001b[49m\n\u001b[1;32m    296\u001b[0m \u001b[43m        \u001b[49m\u001b[43mencoding\u001b[49m\u001b[38;5;241;43m=\u001b[39;49m\u001b[43mencoding\u001b[49m\u001b[43m,\u001b[49m\n\u001b[1;32m    297\u001b[0m \u001b[43m        \u001b[49m\u001b[43mlayer\u001b[49m\u001b[38;5;241;43m=\u001b[39;49m\u001b[43mlayer\u001b[49m\u001b[43m,\u001b[49m\n\u001b[1;32m    298\u001b[0m \u001b[43m        \u001b[49m\u001b[43menabled_drivers\u001b[49m\u001b[38;5;241;43m=\u001b[39;49m\u001b[43menabled_drivers\u001b[49m\u001b[43m,\u001b[49m\n\u001b[1;32m    299\u001b[0m \u001b[43m        \u001b[49m\u001b[43mallow_unsupported_drivers\u001b[49m\u001b[38;5;241;43m=\u001b[39;49m\u001b[43mallow_unsupported_drivers\u001b[49m\u001b[43m,\u001b[49m\n\u001b[1;32m    300\u001b[0m \u001b[43m        \u001b[49m\u001b[38;5;241;43m*\u001b[39;49m\u001b[38;5;241;43m*\u001b[39;49m\u001b[43mkwargs\u001b[49m\n\u001b[1;32m    301\u001b[0m \u001b[43m    \u001b[49m\u001b[43m)\u001b[49m\n\u001b[1;32m    302\u001b[0m \u001b[38;5;28;01melif\u001b[39;00m mode \u001b[38;5;241m==\u001b[39m \u001b[38;5;124m\"\u001b[39m\u001b[38;5;124mw\u001b[39m\u001b[38;5;124m\"\u001b[39m:\n\u001b[1;32m    303\u001b[0m     colxn \u001b[38;5;241m=\u001b[39m Collection(\n\u001b[1;32m    304\u001b[0m         path,\n\u001b[1;32m    305\u001b[0m         mode,\n\u001b[0;32m   (...)\u001b[0m\n\u001b[1;32m    314\u001b[0m         \u001b[38;5;241m*\u001b[39m\u001b[38;5;241m*\u001b[39mkwargs\n\u001b[1;32m    315\u001b[0m     )\n",
      "File \u001b[0;32m/opt/conda/lib/python3.11/site-packages/fiona/collection.py:243\u001b[0m, in \u001b[0;36mCollection.__init__\u001b[0;34m(self, path, mode, driver, schema, crs, encoding, layer, vsi, archive, enabled_drivers, crs_wkt, ignore_fields, ignore_geometry, include_fields, wkt_version, allow_unsupported_drivers, **kwargs)\u001b[0m\n\u001b[1;32m    241\u001b[0m \u001b[38;5;28;01mif\u001b[39;00m \u001b[38;5;28mself\u001b[39m\u001b[38;5;241m.\u001b[39mmode \u001b[38;5;241m==\u001b[39m \u001b[38;5;124m\"\u001b[39m\u001b[38;5;124mr\u001b[39m\u001b[38;5;124m\"\u001b[39m:\n\u001b[1;32m    242\u001b[0m     \u001b[38;5;28mself\u001b[39m\u001b[38;5;241m.\u001b[39msession \u001b[38;5;241m=\u001b[39m Session()\n\u001b[0;32m--> 243\u001b[0m     \u001b[38;5;28;43mself\u001b[39;49m\u001b[38;5;241;43m.\u001b[39;49m\u001b[43msession\u001b[49m\u001b[38;5;241;43m.\u001b[39;49m\u001b[43mstart\u001b[49m\u001b[43m(\u001b[49m\u001b[38;5;28;43mself\u001b[39;49m\u001b[43m,\u001b[49m\u001b[43m \u001b[49m\u001b[38;5;241;43m*\u001b[39;49m\u001b[38;5;241;43m*\u001b[39;49m\u001b[43mkwargs\u001b[49m\u001b[43m)\u001b[49m\n\u001b[1;32m    244\u001b[0m \u001b[38;5;28;01melif\u001b[39;00m \u001b[38;5;28mself\u001b[39m\u001b[38;5;241m.\u001b[39mmode \u001b[38;5;129;01min\u001b[39;00m (\u001b[38;5;124m\"\u001b[39m\u001b[38;5;124ma\u001b[39m\u001b[38;5;124m\"\u001b[39m, \u001b[38;5;124m\"\u001b[39m\u001b[38;5;124mw\u001b[39m\u001b[38;5;124m\"\u001b[39m):\n\u001b[1;32m    245\u001b[0m     \u001b[38;5;28mself\u001b[39m\u001b[38;5;241m.\u001b[39msession \u001b[38;5;241m=\u001b[39m WritingSession()\n",
      "File \u001b[0;32mfiona/ogrext.pyx:588\u001b[0m, in \u001b[0;36mfiona.ogrext.Session.start\u001b[0;34m()\u001b[0m\n",
      "File \u001b[0;32mfiona/ogrext.pyx:143\u001b[0m, in \u001b[0;36mfiona.ogrext.gdal_open_vector\u001b[0;34m()\u001b[0m\n",
      "\u001b[0;31mDriverError\u001b[0m: data/Census_Tracts_2020.geojson: No such file or directory"
     ]
    }
   ],
   "source": [
    "# read in a geojson file downloaded from the LA Times\n",
    "tracts=gpd.read_file('data/Census_Tracts_2020.geojson')\n",
    "tracts.head()"
   ]
  },
  {
   "cell_type": "code",
   "execution_count": null,
   "metadata": {
    "slideshow": {
     "slide_type": "slide"
    }
   },
   "outputs": [],
   "source": [
    "# plot it!\n",
    "tracts.plot(figsize=(12,10))"
   ]
  },
  {
   "cell_type": "code",
   "execution_count": null,
   "metadata": {
    "slideshow": {
     "slide_type": "slide"
    }
   },
   "outputs": [],
   "source": [
    "# tell me more about this dataset\n",
    "tracts.info(verbose=True, show_counts=True)"
   ]
  },
  {
   "cell_type": "code",
   "execution_count": null,
   "metadata": {
    "slideshow": {
     "slide_type": "slide"
    }
   },
   "outputs": [],
   "source": [
    "# we only really need FIPS and geometry, so let's subset the data\n",
    "tracts = tracts[['CT20','geometry']]\n",
    "tracts.head()"
   ]
  },
  {
   "cell_type": "code",
   "execution_count": null,
   "metadata": {},
   "outputs": [],
   "source": [
    "# create a FIPS column\n",
    "tracts['FIPS'] ='06' + '037' + tracts['CT20']"
   ]
  },
  {
   "cell_type": "code",
   "execution_count": null,
   "metadata": {},
   "outputs": [],
   "source": [
    "# check it!\n",
    "tracts.head()"
   ]
  },
  {
   "cell_type": "markdown",
   "metadata": {
    "slideshow": {
     "slide_type": "slide"
    }
   },
   "source": [
    "## Merging/joining data\n",
    "\n",
    "In order to map our census data from social explorer, we need to merge, or join it to our census tract geojson.\n",
    "\n",
    "<img src=\"images/join.png\">"
   ]
  },
  {
   "cell_type": "markdown",
   "metadata": {
    "slideshow": {
     "slide_type": "slide"
    }
   },
   "source": [
    "<div class=\"alert alert-danger\">\n",
    "    \n",
    "Remember the leading zero dilemma? This is why it is important to make sure our data types align. FIPS codes must be used as strings in order for them to join correctly.\n",
    "    \n",
    "</div>"
   ]
  },
  {
   "cell_type": "code",
   "execution_count": null,
   "metadata": {
    "slideshow": {
     "slide_type": "slide"
    }
   },
   "outputs": [],
   "source": [
    "# create a new dataframe based on the join\n",
    "tracts_race=tracts.merge(df2,on=\"FIPS\")"
   ]
  },
  {
   "cell_type": "code",
   "execution_count": null,
   "metadata": {
    "slideshow": {
     "slide_type": "fragment"
    }
   },
   "outputs": [],
   "source": [
    "# what does it look like now?\n",
    "tracts_race.head()"
   ]
  },
  {
   "cell_type": "markdown",
   "metadata": {
    "slideshow": {
     "slide_type": "slide"
    }
   },
   "source": [
    "We can now create choropleth maps in geopandas. \n",
    "\n",
    "* [geopandas choropleth maps](https://geopandas.org/mapping.html#choropleth-maps)\n",
    "* [color schemes](https://geopandas.org/mapping.html#choosing-colors)\n",
    "  * `natural_breaks`\n",
    "  * `equal_interval`\n",
    "  * `quantiles`"
   ]
  },
  {
   "cell_type": "code",
   "execution_count": null,
   "metadata": {
    "slideshow": {
     "slide_type": "slide"
    }
   },
   "outputs": [],
   "source": [
    "tracts_race.plot(figsize=(12,10),\n",
    "                 column='Non Hispanic Black Alone',\n",
    "                 legend=True, \n",
    "                 scheme='NaturalBreaks')"
   ]
  },
  {
   "cell_type": "code",
   "execution_count": null,
   "metadata": {
    "scrolled": true,
    "slideshow": {
     "slide_type": "slide"
    }
   },
   "outputs": [],
   "source": [
    "tracts_race.plot(figsize=(12,10),\n",
    "                 column='Non Hispanic Black Alone',\n",
    "                 legend=True, \n",
    "                 scheme='equal_interval')"
   ]
  },
  {
   "cell_type": "code",
   "execution_count": null,
   "metadata": {
    "scrolled": true,
    "slideshow": {
     "slide_type": "slide"
    }
   },
   "outputs": [],
   "source": [
    "tracts_race.plot(figsize=(12,10),\n",
    "                 column='Non Hispanic Black Alone',\n",
    "                 legend=True, \n",
    "                 scheme='quantiles')"
   ]
  },
  {
   "cell_type": "markdown",
   "metadata": {
    "slideshow": {
     "slide_type": "slide"
    }
   },
   "source": [
    "<div class=\"alert alert-info\">\n",
    "\n",
    "Now it's your turn! Create map plots based on other race indicators. Experiment with the different schemes to display variations of the same data, mapped differently.\n",
    "\n",
    "</div>"
   ]
  },
  {
   "cell_type": "code",
   "execution_count": null,
   "metadata": {},
   "outputs": [],
   "source": []
  },
  {
   "cell_type": "markdown",
   "metadata": {
    "slideshow": {
     "slide_type": "slide"
    }
   },
   "source": [
    "## Additional mapping ideas\n",
    "What does the majority ethnic cluster look like in Los Angeles?"
   ]
  },
  {
   "cell_type": "code",
   "execution_count": null,
   "metadata": {
    "tags": []
   },
   "outputs": [],
   "source": [
    "# First, create new columns for percentages\n",
    "tracts_race['PCT_Black'] = tracts_race['Non Hispanic Black Alone']/tracts_race['TotalPop']*100\n",
    "tracts_race['PCT_White'] = tracts_race['Non Hispanic White Alone']/tracts_race['TotalPop']*100\n",
    "tracts_race['PCT_Asian'] = tracts_race['Non Hispanic Asian Alone']/tracts_race['TotalPop']*100"
   ]
  },
  {
   "cell_type": "code",
   "execution_count": null,
   "metadata": {
    "slideshow": {
     "slide_type": "slide"
    }
   },
   "outputs": [],
   "source": [
    "tracts_race.plot(figsize=(12,10),\n",
    "                 column='PCT_Black',\n",
    "                 legend=True, \n",
    "                 scheme='equal_interval')"
   ]
  },
  {
   "cell_type": "code",
   "execution_count": null,
   "metadata": {
    "slideshow": {
     "slide_type": "slide"
    }
   },
   "outputs": [],
   "source": [
    "tracts_race.plot(figsize=(12,10),\n",
    "                 column='PCT_White',\n",
    "                 legend=True, \n",
    "                 scheme='equal_interval')"
   ]
  },
  {
   "cell_type": "code",
   "execution_count": null,
   "metadata": {
    "slideshow": {
     "slide_type": "slide"
    }
   },
   "outputs": [],
   "source": [
    "tracts_race.plot(figsize=(12,10),\n",
    "                 column='PCT_Asian',\n",
    "                 legend=True, \n",
    "                 scheme='equal_interval')"
   ]
  },
  {
   "cell_type": "code",
   "execution_count": null,
   "metadata": {
    "slideshow": {
     "slide_type": "slide"
    }
   },
   "outputs": [],
   "source": [
    "tracts_race[tracts_race.PCT_Black > 50].plot(figsize=(12,10))"
   ]
  },
  {
   "cell_type": "code",
   "execution_count": null,
   "metadata": {
    "slideshow": {
     "slide_type": "slide"
    }
   },
   "outputs": [],
   "source": [
    "tracts_race[tracts_race.PCT_White > 50].plot(figsize=(12,10))"
   ]
  },
  {
   "cell_type": "code",
   "execution_count": null,
   "metadata": {
    "slideshow": {
     "slide_type": "slide"
    }
   },
   "outputs": [],
   "source": [
    "tracts_race[tracts_race.PCT_Asian > 50].plot(figsize=(12,10))"
   ]
  },
  {
   "cell_type": "markdown",
   "metadata": {
    "slideshow": {
     "slide_type": "slide"
    }
   },
   "source": [
    "## Folium\n",
    "\n"
   ]
  },
  {
   "cell_type": "code",
   "execution_count": null,
   "metadata": {},
   "outputs": [],
   "source": [
    "import folium "
   ]
  },
  {
   "cell_type": "code",
   "execution_count": null,
   "metadata": {},
   "outputs": [],
   "source": [
    "m = folium.Map(location=[34.2,-118.2], \n",
    "               zoom_start = 9,\n",
    "               tiles='CartoDB positron', \n",
    "               attribution='CartoDB')\n",
    "\n",
    "# plot chorpleth over the base map\n",
    "folium.Choropleth(\n",
    "                  geo_data=tracts_race, # geo data\n",
    "                  data=tracts_race, # data          \n",
    "                  key_on='feature.properties.FIPS', # key, or merge column\n",
    "                  columns=['FIPS', 'PCT_Black'], # [key, value]\n",
    "                  fill_color='BuPu',\n",
    "                  line_weight=0.1, \n",
    "                  fill_opacity=0.8,\n",
    "                  line_opacity=0.2, # line opacity (of the border)\n",
    "                  legend_name='Population Black (2020)').add_to(m)    # name on the legend color bar\n",
    "m"
   ]
  },
  {
   "cell_type": "code",
   "execution_count": null,
   "metadata": {},
   "outputs": [],
   "source": [
    "m.save('LA_Black.html')"
   ]
  },
  {
   "cell_type": "markdown",
   "metadata": {},
   "source": [
    "## You can also customize map colors and create popups using [folium and branca](https://python-visualization.github.io/folium/latest/user_guide/geojson/geojson_popup_and_tooltip.html). \n",
    "### Check out the [folium documentation](https://python-visualization.github.io/folium/latest/user_guide.html) and [branca documentation](https://python-visualization.github.io/branca/colormap.html)!"
   ]
  }
 ],
 "metadata": {
  "celltoolbar": "Slideshow",
  "kernelspec": {
   "display_name": "Python 3 (ipykernel)",
   "language": "python",
   "name": "python3"
  },
  "language_info": {
   "codemirror_mode": {
    "name": "ipython",
    "version": 3
   },
   "file_extension": ".py",
   "mimetype": "text/x-python",
   "name": "python",
   "nbconvert_exporter": "python",
   "pygments_lexer": "ipython3",
   "version": "3.11.7"
  },
  "toc": {
   "base_numbering": 1,
   "nav_menu": {},
   "number_sections": true,
   "sideBar": true,
   "skip_h1_title": false,
   "title_cell": "Table of Contents",
   "title_sidebar": "Contents",
   "toc_cell": true,
   "toc_position": {
    "height": "calc(100% - 180px)",
    "left": "10px",
    "top": "150px",
    "width": "350.8px"
   },
   "toc_section_display": true,
   "toc_window_display": false
  }
 },
 "nbformat": 4,
 "nbformat_minor": 4
}
